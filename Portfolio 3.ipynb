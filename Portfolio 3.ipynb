{
 "cells": [
  {
   "cell_type": "markdown",
   "metadata": {},
   "source": [
    "## Student Name: **Cornelius Brian Loe**\n",
    "## Student ID: **45710783**\n",
    "## Github Repo URL = https://github.com/MQCOMP2200-S2-2020/portfolio-2020-BrianLoe"
   ]
  },
  {
   "cell_type": "code",
   "execution_count": 1,
   "metadata": {},
   "outputs": [],
   "source": [
    "import pandas as pd\n",
    "import numpy as np\n",
    "import matplotlib.pyplot as plt\n",
    "%matplotlib inline\n",
    "from sklearn.feature_extraction.text import TfidfVectorizer\n",
    "from sklearn.preprocessing import LabelEncoder\n",
    "from sklearn.model_selection import train_test_split\n",
    "from sklearn.linear_model import LogisticRegression\n",
    "from sklearn.metrics import confusion_matrix, accuracy_score\n",
    "from sklearn.metrics import classification_report\n",
    "from sklearn.neighbors import KNeighborsClassifier\n",
    "from sklearn.naive_bayes import GaussianNB\n",
    "from sklearn.ensemble import RandomForestClassifier\n",
    "import warnings\n",
    "warnings.filterwarnings(\"ignore\")"
   ]
  },
  {
   "cell_type": "markdown",
   "metadata": {},
   "source": [
    "## Predicting the Genre of Books from Summaries\n",
    "\n",
    "We'll use a set of book summaries from the [CMU Book Summaries Corpus](http://www.cs.cmu.edu/~dbamman/booksummaries.html) in this experiment.  This contains a large number of summaries (16,559) and includes meta-data about the genre of the books taken from Freebase.  Each book can have more than one genre and there are 227 genres listed in total.  To simplify the problem of genre prediction we will select a small number of target genres that occur frequently in the collection and select the books with these genre labels.  This will give us one genre label per book. \n",
    "\n",
    "Your goal in this portfolio is to take this data and build predictive models to classify the books into one of the five target genres.  You will need to extract suitable features from the texts and select suitable models to classify them. You should build and evaluate at least TWO models and compare the prediction results.\n",
    "\n",
    "You should report on each stage of your experiment as you work with the data.\n"
   ]
  },
  {
   "cell_type": "markdown",
   "metadata": {},
   "source": [
    "## Data Preparation\n",
    "\n",
    "The first task is to read the data. It is made available in tab-separated format but has no column headings. We can use `read_csv` to read this but we need to set the separator to `\\t` (tab) and supply the column names.  The names come from the [ReadMe](data/booksummaries/README.txt) file."
   ]
  },
  {
   "cell_type": "code",
   "execution_count": 2,
   "metadata": {
    "scrolled": true
   },
   "outputs": [
    {
     "data": {
      "text/html": [
       "<div>\n",
       "<style scoped>\n",
       "    .dataframe tbody tr th:only-of-type {\n",
       "        vertical-align: middle;\n",
       "    }\n",
       "\n",
       "    .dataframe tbody tr th {\n",
       "        vertical-align: top;\n",
       "    }\n",
       "\n",
       "    .dataframe thead th {\n",
       "        text-align: right;\n",
       "    }\n",
       "</style>\n",
       "<table border=\"1\" class=\"dataframe\">\n",
       "  <thead>\n",
       "    <tr style=\"text-align: right;\">\n",
       "      <th></th>\n",
       "      <th>wid</th>\n",
       "      <th>fid</th>\n",
       "      <th>title</th>\n",
       "      <th>author</th>\n",
       "      <th>date</th>\n",
       "      <th>genres</th>\n",
       "      <th>summary</th>\n",
       "    </tr>\n",
       "  </thead>\n",
       "  <tbody>\n",
       "    <tr>\n",
       "      <th>0</th>\n",
       "      <td>620</td>\n",
       "      <td>/m/0hhy</td>\n",
       "      <td>Animal Farm</td>\n",
       "      <td>George Orwell</td>\n",
       "      <td>1945-08-17</td>\n",
       "      <td>{\"/m/016lj8\": \"Roman \\u00e0 clef\", \"/m/06nbt\":...</td>\n",
       "      <td>Old Major, the old boar on the Manor Farm, ca...</td>\n",
       "    </tr>\n",
       "    <tr>\n",
       "      <th>1</th>\n",
       "      <td>843</td>\n",
       "      <td>/m/0k36</td>\n",
       "      <td>A Clockwork Orange</td>\n",
       "      <td>Anthony Burgess</td>\n",
       "      <td>1962</td>\n",
       "      <td>{\"/m/06n90\": \"Science Fiction\", \"/m/0l67h\": \"N...</td>\n",
       "      <td>Alex, a teenager living in near-future Englan...</td>\n",
       "    </tr>\n",
       "    <tr>\n",
       "      <th>2</th>\n",
       "      <td>986</td>\n",
       "      <td>/m/0ldx</td>\n",
       "      <td>The Plague</td>\n",
       "      <td>Albert Camus</td>\n",
       "      <td>1947</td>\n",
       "      <td>{\"/m/02m4t\": \"Existentialism\", \"/m/02xlf\": \"Fi...</td>\n",
       "      <td>The text of The Plague is divided into five p...</td>\n",
       "    </tr>\n",
       "    <tr>\n",
       "      <th>3</th>\n",
       "      <td>1756</td>\n",
       "      <td>/m/0sww</td>\n",
       "      <td>An Enquiry Concerning Human Understanding</td>\n",
       "      <td>David Hume</td>\n",
       "      <td></td>\n",
       "      <td></td>\n",
       "      <td>The argument of the Enquiry proceeds by a ser...</td>\n",
       "    </tr>\n",
       "    <tr>\n",
       "      <th>4</th>\n",
       "      <td>2080</td>\n",
       "      <td>/m/0wkt</td>\n",
       "      <td>A Fire Upon the Deep</td>\n",
       "      <td>Vernor Vinge</td>\n",
       "      <td></td>\n",
       "      <td>{\"/m/03lrw\": \"Hard science fiction\", \"/m/06n90...</td>\n",
       "      <td>The novel posits that space around the Milky ...</td>\n",
       "    </tr>\n",
       "  </tbody>\n",
       "</table>\n",
       "</div>"
      ],
      "text/plain": [
       "    wid      fid                                      title           author  \\\n",
       "0   620  /m/0hhy                                Animal Farm    George Orwell   \n",
       "1   843  /m/0k36                         A Clockwork Orange  Anthony Burgess   \n",
       "2   986  /m/0ldx                                 The Plague     Albert Camus   \n",
       "3  1756  /m/0sww  An Enquiry Concerning Human Understanding       David Hume   \n",
       "4  2080  /m/0wkt                       A Fire Upon the Deep     Vernor Vinge   \n",
       "\n",
       "         date                                             genres  \\\n",
       "0  1945-08-17  {\"/m/016lj8\": \"Roman \\u00e0 clef\", \"/m/06nbt\":...   \n",
       "1        1962  {\"/m/06n90\": \"Science Fiction\", \"/m/0l67h\": \"N...   \n",
       "2        1947  {\"/m/02m4t\": \"Existentialism\", \"/m/02xlf\": \"Fi...   \n",
       "3                                                                  \n",
       "4              {\"/m/03lrw\": \"Hard science fiction\", \"/m/06n90...   \n",
       "\n",
       "                                             summary  \n",
       "0   Old Major, the old boar on the Manor Farm, ca...  \n",
       "1   Alex, a teenager living in near-future Englan...  \n",
       "2   The text of The Plague is divided into five p...  \n",
       "3   The argument of the Enquiry proceeds by a ser...  \n",
       "4   The novel posits that space around the Milky ...  "
      ]
     },
     "execution_count": 2,
     "metadata": {},
     "output_type": "execute_result"
    }
   ],
   "source": [
    "names = ['wid', 'fid', 'title', 'author', 'date', 'genres', 'summary']\n",
    "\n",
    "books = pd.read_csv(\"data/booksummaries/booksummaries.txt\", sep=\"\\t\", header=None, names=names, keep_default_na=False)\n",
    "books.head()"
   ]
  },
  {
   "cell_type": "markdown",
   "metadata": {},
   "source": [
    "We next filter the data so that only our target genre labels are included and we assign each text to just one of the genre labels.  It's possible that one text could be labelled with two of these labels (eg. Science Fiction and Fantasy) but we will just assign one of those here. "
   ]
  },
  {
   "cell_type": "code",
   "execution_count": 3,
   "metadata": {},
   "outputs": [
    {
     "data": {
      "text/plain": [
       "(8954, 5)"
      ]
     },
     "execution_count": 3,
     "metadata": {},
     "output_type": "execute_result"
    }
   ],
   "source": [
    "target_genres = [\"Children's literature\",\n",
    "                 'Science Fiction',\n",
    "                 'Novel',\n",
    "                 'Fantasy',\n",
    "                 'Mystery']\n",
    "\n",
    "# create a Series of empty strings the same length as the list of books\n",
    "genre = pd.Series(np.repeat(\"\", books.shape[0]))\n",
    "# look for each target genre and set the corresponding entries in the genre series to the genre label\n",
    "for g in target_genres:\n",
    "    genre[books['genres'].str.contains(g)] = g\n",
    "\n",
    "# add this to the book dataframe and then select only those rows that have a genre label\n",
    "# drop some useless columns\n",
    "books['genre'] = genre\n",
    "genre_books = books[genre!=''].drop(['genres', 'fid', 'wid'], axis=1)\n",
    "\n",
    "genre_books.shape\n"
   ]
  },
  {
   "cell_type": "code",
   "execution_count": 4,
   "metadata": {},
   "outputs": [
    {
     "data": {
      "text/html": [
       "<div>\n",
       "<style scoped>\n",
       "    .dataframe tbody tr th:only-of-type {\n",
       "        vertical-align: middle;\n",
       "    }\n",
       "\n",
       "    .dataframe tbody tr th {\n",
       "        vertical-align: top;\n",
       "    }\n",
       "\n",
       "    .dataframe thead th {\n",
       "        text-align: right;\n",
       "    }\n",
       "</style>\n",
       "<table border=\"1\" class=\"dataframe\">\n",
       "  <thead>\n",
       "    <tr style=\"text-align: right;\">\n",
       "      <th></th>\n",
       "      <th>title</th>\n",
       "      <th>author</th>\n",
       "      <th>date</th>\n",
       "      <th>summary</th>\n",
       "      <th>genre</th>\n",
       "    </tr>\n",
       "  </thead>\n",
       "  <tbody>\n",
       "    <tr>\n",
       "      <th>0</th>\n",
       "      <td>Animal Farm</td>\n",
       "      <td>George Orwell</td>\n",
       "      <td>1945-08-17</td>\n",
       "      <td>Old Major, the old boar on the Manor Farm, ca...</td>\n",
       "      <td>Children's literature</td>\n",
       "    </tr>\n",
       "    <tr>\n",
       "      <th>1</th>\n",
       "      <td>A Clockwork Orange</td>\n",
       "      <td>Anthony Burgess</td>\n",
       "      <td>1962</td>\n",
       "      <td>Alex, a teenager living in near-future Englan...</td>\n",
       "      <td>Novel</td>\n",
       "    </tr>\n",
       "    <tr>\n",
       "      <th>2</th>\n",
       "      <td>The Plague</td>\n",
       "      <td>Albert Camus</td>\n",
       "      <td>1947</td>\n",
       "      <td>The text of The Plague is divided into five p...</td>\n",
       "      <td>Novel</td>\n",
       "    </tr>\n",
       "    <tr>\n",
       "      <th>4</th>\n",
       "      <td>A Fire Upon the Deep</td>\n",
       "      <td>Vernor Vinge</td>\n",
       "      <td></td>\n",
       "      <td>The novel posits that space around the Milky ...</td>\n",
       "      <td>Fantasy</td>\n",
       "    </tr>\n",
       "    <tr>\n",
       "      <th>6</th>\n",
       "      <td>A Wizard of Earthsea</td>\n",
       "      <td>Ursula K. Le Guin</td>\n",
       "      <td>1968</td>\n",
       "      <td>Ged is a young boy on Gont, one of the larger...</td>\n",
       "      <td>Fantasy</td>\n",
       "    </tr>\n",
       "  </tbody>\n",
       "</table>\n",
       "</div>"
      ],
      "text/plain": [
       "                  title             author        date  \\\n",
       "0           Animal Farm      George Orwell  1945-08-17   \n",
       "1    A Clockwork Orange    Anthony Burgess        1962   \n",
       "2            The Plague       Albert Camus        1947   \n",
       "4  A Fire Upon the Deep       Vernor Vinge               \n",
       "6  A Wizard of Earthsea  Ursula K. Le Guin        1968   \n",
       "\n",
       "                                             summary                  genre  \n",
       "0   Old Major, the old boar on the Manor Farm, ca...  Children's literature  \n",
       "1   Alex, a teenager living in near-future Englan...                  Novel  \n",
       "2   The text of The Plague is divided into five p...                  Novel  \n",
       "4   The novel posits that space around the Milky ...                Fantasy  \n",
       "6   Ged is a young boy on Gont, one of the larger...                Fantasy  "
      ]
     },
     "execution_count": 4,
     "metadata": {},
     "output_type": "execute_result"
    }
   ],
   "source": [
    "genre_books.head()"
   ]
  },
  {
   "cell_type": "code",
   "execution_count": 5,
   "metadata": {},
   "outputs": [
    {
     "data": {
      "text/html": [
       "<div>\n",
       "<style scoped>\n",
       "    .dataframe tbody tr th:only-of-type {\n",
       "        vertical-align: middle;\n",
       "    }\n",
       "\n",
       "    .dataframe tbody tr th {\n",
       "        vertical-align: top;\n",
       "    }\n",
       "\n",
       "    .dataframe thead th {\n",
       "        text-align: right;\n",
       "    }\n",
       "</style>\n",
       "<table border=\"1\" class=\"dataframe\">\n",
       "  <thead>\n",
       "    <tr style=\"text-align: right;\">\n",
       "      <th></th>\n",
       "      <th>title</th>\n",
       "      <th>author</th>\n",
       "      <th>date</th>\n",
       "      <th>summary</th>\n",
       "    </tr>\n",
       "    <tr>\n",
       "      <th>genre</th>\n",
       "      <th></th>\n",
       "      <th></th>\n",
       "      <th></th>\n",
       "      <th></th>\n",
       "    </tr>\n",
       "  </thead>\n",
       "  <tbody>\n",
       "    <tr>\n",
       "      <th>Children's literature</th>\n",
       "      <td>1092</td>\n",
       "      <td>1092</td>\n",
       "      <td>1092</td>\n",
       "      <td>1092</td>\n",
       "    </tr>\n",
       "    <tr>\n",
       "      <th>Fantasy</th>\n",
       "      <td>2311</td>\n",
       "      <td>2311</td>\n",
       "      <td>2311</td>\n",
       "      <td>2311</td>\n",
       "    </tr>\n",
       "    <tr>\n",
       "      <th>Mystery</th>\n",
       "      <td>1396</td>\n",
       "      <td>1396</td>\n",
       "      <td>1396</td>\n",
       "      <td>1396</td>\n",
       "    </tr>\n",
       "    <tr>\n",
       "      <th>Novel</th>\n",
       "      <td>2258</td>\n",
       "      <td>2258</td>\n",
       "      <td>2258</td>\n",
       "      <td>2258</td>\n",
       "    </tr>\n",
       "    <tr>\n",
       "      <th>Science Fiction</th>\n",
       "      <td>1897</td>\n",
       "      <td>1897</td>\n",
       "      <td>1897</td>\n",
       "      <td>1897</td>\n",
       "    </tr>\n",
       "  </tbody>\n",
       "</table>\n",
       "</div>"
      ],
      "text/plain": [
       "                       title  author  date  summary\n",
       "genre                                              \n",
       "Children's literature   1092    1092  1092     1092\n",
       "Fantasy                 2311    2311  2311     2311\n",
       "Mystery                 1396    1396  1396     1396\n",
       "Novel                   2258    2258  2258     2258\n",
       "Science Fiction         1897    1897  1897     1897"
      ]
     },
     "execution_count": 5,
     "metadata": {},
     "output_type": "execute_result"
    }
   ],
   "source": [
    "# check how many books we have in each genre category\n",
    "genre_books.groupby('genre').count()\n"
   ]
  },
  {
   "cell_type": "markdown",
   "metadata": {},
   "source": [
    "## Feature Extraction\n",
    "\n",
    "Now you take over to build a suitable model and present your results.\n",
    "\n",
    "Firstly, you need to perform feature extraction to produce feature vectors for the predictive models."
   ]
  },
  {
   "cell_type": "code",
   "execution_count": 6,
   "metadata": {},
   "outputs": [
    {
     "data": {
      "text/plain": [
       "(8954, 4000)"
      ]
     },
     "execution_count": 6,
     "metadata": {},
     "output_type": "execute_result"
    }
   ],
   "source": [
    "vectorizer = TfidfVectorizer(max_features=4000)\n",
    "X = vectorizer.fit_transform(genre_books.summary).toarray()\n",
    "X.shape"
   ]
  },
  {
   "cell_type": "code",
   "execution_count": 7,
   "metadata": {
    "scrolled": true
   },
   "outputs": [
    {
     "name": "stdout",
     "output_type": "stream",
     "text": [
      "['000', '10', '100', '11', '12', '13', '14', '15', '16', '17', '18', '19th', '20', '200', '20th', '24', '30', '34', '39', '40', 'abandon', 'abandoned', 'abandons', 'abbey', 'abbot', 'abducted', 'abilities', 'ability', 'able', 'aboard', 'about', 'above', 'absence', 'abuse', 'abusive', 'academy', 'accept', 'accepted', 'accepts', 'access', 'accident', 'accidentally', 'accompanied', 'accompanies', 'accompany', 'according', 'account', 'accused', 'accuses', 'achieve', 'acquaintance', 'across', 'act', 'acting', 'action', 'actions', 'active', 'activities', 'actor', 'actress', 'acts', 'actual', 'actually', 'ad', 'adam', 'addition', 'address', 'admiral', 'admit', 'admits', 'adopt', 'adopted', 'adrian', 'adult', 'adults', 'advance', 'advanced', 'advances', 'advantage', 'adventure', 'adventures', 'advice', 'affair', 'affairs', 'affected', 'affection', 'afraid', 'africa', 'african', 'afsan', 'after', 'aftermath', 'afternoon', 'afterward', 'afterwards', 'again', 'against', 'age', 'aged', 'agency', 'agent', 'agents', 'aging', 'ago', 'agree', 'agreed', 'agreement', 'agrees', 'ahead', 'ai', 'aid', 'aided', 'air', 'aircraft', 'airport', 'al', 'alan', 'alanna', 'albert', 'alcohol', 'alcoholic', 'alex', 'alexander', 'alfred', 'ali', 'alice', 'alicia', 'alien', 'aliens', 'alive', 'all', 'alliance', 'allied', 'allies', 'allow', 'allowed', 'allowing', 'allows', 'ally', 'almost', 'alone', 'along', 'alpha', 'already', 'also', 'altered', 'alternate', 'alternative', 'although', 'alvin', 'always', 'am', 'amanda', 'ambassador', 'amber', 'ambitious', 'ambush', 'ambushed', 'amelia', 'america', 'american', 'americans', 'among', 'amongst', 'amount', 'amy', 'an', 'anakin', 'ancestors', 'ancient', 'and', 'anderson', 'andrew', 'andy', 'angel', 'angela', 'angeles', 'angels', 'anger', 'angry', 'angus', 'animal', 'animals', 'animorphs', 'anita', 'ann', 'anna', 'anne', 'annie', 'announces', 'anonymous', 'another', 'answer', 'answers', 'anthony', 'anti', 'anton', 'any', 'anymore', 'anyone', 'anything', 'anyway', 'apart', 'apartment', 'apparent', 'apparently', 'appear', 'appearance', 'appeared', 'appears', 'appointed', 'apprentice', 'approach', 'approached', 'approaches', 'approaching', 'april', 'archie', 'are', 'area', 'areas', 'argument', 'ariel', 'ark', 'arm', 'armed', 'armies', 'armor', 'arms', 'army', 'around', 'arrange', 'arranged', 'arranges', 'arrest', 'arrested', 'arrival', 'arrive', 'arrived', 'arrives', 'arriving', 'arrow', 'art', 'artemis', 'arthur', 'article', 'artifact', 'artificial', 'artist', 'as', 'ash', 'aside', 'ask', 'asked', 'asking', 'asks', 'asleep', 'aspects', 'assassin', 'assassinate', 'assassination', 'assassins', 'assault', 'assigned', 'assignment', 'assist', 'assistance', 'assistant', 'assume', 'assumed', 'assumes', 'asteroid', 'astrid', 'at', 'atmosphere', 'attached', 'attack', 'attacked', 'attacking', 'attacks', 'attempt', 'attempted', 'attempting', 'attempts', 'attend', 'attending', 'attends', 'attention', 'attitude', 'attorney', 'attracted', 'attraction', 'attractive', 'audience', 'august', 'aunt', 'australia', 'author', 'authorities', 'authority', 'available', 'avalon', 'avoid', 'awakens', 'awakes', 'aware', 'away', 'ax', 'baby', 'back', 'background', 'bad', 'badger', 'badly', 'bag', 'balance', 'ball', 'band', 'bandits', 'bank', 'banks', 'bar', 'barbara', 'barely', 'barn', 'baron', 'barrier', 'barry', 'base', 'based', 'basement', 'bats', 'battle', 'battles', 'bay', 'be', 'beach', 'bean', 'bear', 'bearing', 'bears', 'beast', 'beat', 'beaten', 'beating', 'beats', 'beautiful', 'beauty', 'became', 'because', 'become', 'becomes', 'becoming', 'bed', 'bedroom', 'been', 'before', 'befriends', 'began', 'begin', 'beginning', 'begins', 'begs', 'begun', 'behalf', 'behavior', 'behaviour', 'behind', 'being', 'beings', 'belief', 'believe', 'believed', 'believes', 'believing', 'bell', 'belonging', 'belongs', 'beloved', 'below', 'belt', 'ben', 'beneath', 'benjamin', 'beringar', 'berlin', 'bernard', 'best', 'betrayal', 'betrayed', 'betsy', 'better', 'between', 'beyond', 'bianca', 'big', 'bigger', 'bill', 'billy', 'biological', 'bird', 'birds', 'birth', 'birthday', 'bishop', 'bit', 'bitter', 'bizarre', 'black', 'blackmail', 'blade', 'blake', 'blame', 'blames', 'blind', 'block', 'blood', 'bloody', 'blow', 'blows', 'blue', 'board', 'boarding', 'boat', 'bob', 'bobby', 'bodies', 'body', 'bodyguard', 'bold', 'bomb', 'bombs', 'bond', 'bone', 'bones', 'book', 'books', 'border', 'bored', 'born', 'bosch', 'boss', 'boston', 'both', 'bottle', 'bottom', 'bought', 'bound', 'box', 'boy', 'boyfriend', 'boys', 'brain', 'branch', 'brand', 'brave', 'break', 'breaking', 'breaks', 'brian', 'briar', 'bride', 'bridge', 'brief', 'briefly', 'bright', 'brilliant', 'bring', 'bringing', 'brings', 'britain', 'british', 'broke', 'broken', 'brother', 'brotherhood', 'brothers', 'brought', 'brown', 'brutal', 'brutally', 'buffy', 'build', 'building', 'builds', 'built', 'bullet', 'buried', 'burn', 'burned', 'burning', 'burns', 'bus', 'business', 'businessman', 'busy', 'but', 'butler', 'buy', 'buys', 'by', 'cabin', 'cadfael', 'cal', 'caleb', 'california', 'call', 'called', 'calling', 'calls', 'camber', 'came', 'camp', 'campaign', 'campbell', 'campion', 'can', 'canada', 'cancer', 'candy', 'cannot', 'capable', 'capital', 'captain', 'captive', 'capture', 'captured', 'captures', 'car', 'card', 'cards', 'care', 'career', 'carefully', 'cargo', 'carl', 'caroline', 'carrie', 'carried', 'carries', 'carry', 'carrying', 'carson', 'carter', 'case', 'cases', 'cash', 'cassie', 'cast', 'castle', 'cat', 'catch', 'catches', 'cathedral', 'catherine', 'catholic', 'cats', 'caught', 'cause', 'caused', 'causes', 'causing', 'cave', 'caves', 'celebration', 'celia', 'cell', 'center', 'centers', 'central', 'centre', 'centuries', 'century', 'ceremony', 'certain', 'chain', 'chair', 'challenge', 'challenges', 'chamber', 'champion', 'chance', 'change', 'changed', 'changes', 'changing', 'chaos', 'chapter', 'chapters', 'character', 'characters', 'charge', 'charged', 'charges', 'charity', 'charles', 'charlie', 'charlotte', 'chase', 'chased', 'check', 'chest', 'chester', 'chicago', 'chief', 'child', 'childhood', 'children', 'china', 'chinese', 'choice', 'choose', 'chooses', 'chosen', 'chris', 'christian', 'christine', 'christmas', 'christopher', 'church', 'cia', 'circle', 'circumstances', 'circus', 'cities', 'citizens', 'city', 'civil', 'civilization', 'claim', 'claimed', 'claiming', 'claims', 'claire', 'clan', 'clans', 'clara', 'clare', 'clarissa', 'clark', 'class', 'classes', 'classmates', 'claude', 'clean', 'clear', 'clearly', 'client', 'cliff', 'climax', 'climb', 'climbs', 'clock', 'clone', 'clones', 'close', 'closed', 'closely', 'closer', 'closes', 'closing', 'clothes', 'clothing', 'cloud', 'club', 'clue', 'clues', 'co', 'coast', 'code', 'cold', 'colin', 'collapse', 'collapses', 'colleagues', 'collect', 'collection', 'college', 'colonel', 'colonists', 'colony', 'coma', 'combat', 'combined', 'come', 'comes', 'comfort', 'coming', 'command', 'commander', 'commands', 'commit', 'commits', 'committed', 'common', 'communicate', 'communication', 'communist', 'community', 'companion', 'companions', 'company', 'competition', 'complete', 'completed', 'completely', 'complex', 'complicated', 'computer', 'conan', 'concept', 'concerned', 'concerning', 'concerns', 'concludes', 'conclusion', 'condition', 'conditions', 'confederate', 'conference', 'confesses', 'confession', 'confirms', 'conflict', 'conflicts', 'confront', 'confrontation', 'confronted', 'confronts', 'confused', 'confusion', 'connected', 'connection', 'connections', 'conquer', 'conrad', 'consciousness', 'consequences', 'consider', 'considerable', 'considered', 'considers', 'consists', 'conspiracy', 'constant', 'constantly', 'constructed', 'construction', 'contact', 'contacted', 'contacts', 'contain', 'containing', 'contains', 'content', 'contest', 'continent', 'continue', 'continued', 'continues', 'continuing', 'contract', 'contrast', 'control', 'controlled', 'controlling', 'controls', 'convent', 'conversation', 'convince', 'convinced', 'convinces', 'cook', 'cope', 'copy', 'core', 'corporation', 'corps', 'corpse', 'correct', 'corrupt', 'corwin', 'cost', 'cottage', 'could', 'couldn', 'council', 'count', 'counter', 'countries', 'country', 'countryside', 'county', 'coup', 'couple', 'courage', 'course', 'court', 'cousin', 'cousins', 'covenant', 'cover', 'covered', 'craft', 'crash', 'crashes', 'crazy', 'create', 'created', 'creates', 'creating', 'creation', 'creator', 'creature', 'creatures', 'crew', 'crime', 'crimes', 'criminal', 'criminals', 'crisis', 'critical', 'cross', 'crossing', 'crow', 'crowd', 'crown', 'cruel', 'crush', 'crying', 'crystal', 'cult', 'cultural', 'culture', 'cure', 'curious', 'current', 'currently', 'curse', 'custody', 'cut', 'cuts', 'cutting', 'dad', 'dagger', 'daily', 'daisy', 'damage', 'damaged', 'dan', 'dance', 'dancing', 'dane', 'danger', 'dangerous', 'daniel', 'danny', 'daphne', 'dark', 'darkness', 'darren', 'data', 'date', 'daughter', 'daughters', 'dave', 'david', 'dawn', 'day', 'days', 'de', 'dead', 'deadly', 'deal', 'dealing', 'deals', 'dean', 'death', 'deaths', 'debate', 'debt', 'decades', 'deceased', 'december', 'decide', 'decided', 'decides', 'deciding', 'decision', 'decker', 'declared', 'declares', 'declines', 'dedicated', 'dee', 'deep', 'deeply', 'deer', 'defeat', 'defeated', 'defeating', 'defeats', 'defend', 'defense', 'defenses', 'degree', 'deliberately', 'deliver', 'delivered', 'delivers', 'demand', 'demanding', 'demands', 'demon', 'demons', 'denies', 'depart', 'department', 'departs', 'departure', 'depressed', 'depression', 'deputy', 'derec', 'deryni', 'descendants', 'described', 'describes', 'describing', 'description', 'desert', 'deserted', 'designed', 'desire', 'desires', 'despair', 'desperate', 'desperately', 'despite', 'destination', 'destiny', 'destroy', 'destroyed', 'destroying', 'destroys', 'destruction', 'detail', 'detailed', 'details', 'detective', 'determine', 'determined', 'determines', 'devastated', 'devastating', 'develop', 'developed', 'developing', 'development', 'develops', 'device', 'devices', 'devil', 'devoted', 'diamond', 'diary', 'dick', 'did', 'didn', 'die', 'died', 'dies', 'differences', 'different', 'difficult', 'difficulty', 'dig', 'dinner', 'direct', 'direction', 'directly', 'director', 'disappear', 'disappearance', 'disappeared', 'disappears', 'disappointed', 'disaster', 'discover', 'discovered', 'discovering', 'discovers', 'discovery', 'discuss', 'discussing', 'discussion', 'disease', 'disguise', 'disguised', 'dismisses', 'display', 'distance', 'distant', 'distracted', 'distraught', 'district', 'disturbed', 'divided', 'divine', 'divorce', 'dna', 'do', 'doctor', 'doctors', 'documents', 'does', 'doesn', 'dog', 'dogs', 'doing', 'doll', 'dollars', 'don', 'done', 'doomed', 'door', 'doors', 'dorothy', 'double', 'doubt', 'douglas', 'down', 'dr', 'dragon', 'dragons', 'drake', 'draw', 'drawing', 'drawn', 'draws', 'dream', 'dreams', 'dresden', 'dress', 'dressed', 'drew', 'drink', 'drinking', 'drinks', 'drive', 'driven', 'driver', 'drives', 'driving', 'drop', 'dropped', 'drops', 'drowned', 'drug', 'drugged', 'drugs', 'drunk', 'due', 'duel', 'duke', 'duncan', 'during', 'dust', 'duties', 'duty', 'dwarf', 'dwarves', 'dying', 'each', 'eager', 'earl', 'earlier', 'early', 'earn', 'earth', 'easily', 'east', 'eastern', 'easy', 'eat', 'eaten', 'eating', 'eats', 'eccentric', 'economic', 'ed', 'eddie', 'edgar', 'edge', 'edition', 'edmund', 'education', 'edward', 'effect', 'effectively', 'effects', 'effort', 'efforts', 'egg', 'eggs', 'egypt', 'eight', 'either', 'el', 'elder', 'elderly', 'eldest', 'election', 'elements', 'eleven', 'elf', 'elite', 'eliza', 'elizabeth', 'ellen', 'else', 'elsewhere', 'elven', 'elves', 'emerald', 'emergency', 'emerges', 'emily', 'emma', 'emotional', 'emotions', 'emperor', 'empire', 'employed', 'employer', 'empress', 'empty', 'en', 'encounter', 'encountered', 'encounters', 'encourages', 'end', 'ended', 'ender', 'ending', 'ends', 'enemies', 'enemy', 'energy', 'engage', 'engaged', 'engagement', 'engineer', 'engineering', 'england', 'english', 'enjoy', 'enjoys', 'enlists', 'enormous', 'enough', 'enraged', 'ensues', 'ensuing', 'ensure', 'enter', 'entered', 'entering', 'enterprise', 'enters', 'entire', 'entirely', 'entity', 'entrance', 'environment', 'epilogue', 'episode', 'equally', 'equipment', 'era', 'eragon', 'eric', 'erik', 'escape', 'escaped', 'escapes', 'escaping', 'escort', 'especially', 'essentially', 'establish', 'established', 'estate', 'esther', 'estranged', 'eternal', 'ethan', 'europe', 'european', 'eva', 'eve', 'even', 'evening', 'event', 'events', 'eventual', 'eventually', 'ever', 'every', 'everybody', 'everyone', 'everything', 'evidence', 'evil', 'ex', 'exact', 'exactly', 'example', 'except', 'exchange', 'executed', 'execution', 'exile', 'exiled', 'exist', 'existence', 'exists', 'expected', 'expedition', 'experience', 'experienced', 'experiences', 'experiment', 'experiments', 'expert', 'explain', 'explained', 'explaining', 'explains', 'explanation', 'explodes', 'exploration', 'explore', 'explores', 'exploring', 'explosion', 'exposed', 'expresses', 'extended', 'extra', 'extreme', 'extremely', 'eye', 'eyes', 'face', 'faced', 'faces', 'facility', 'facing', 'fact', 'faction', 'factions', 'factory', 'fail', 'failed', 'failing', 'fails', 'failure', 'fair', 'fairy', 'faith', 'fake', 'falcon', 'fall', 'fallen', 'falling', 'falls', 'false', 'familiar', 'families', 'family', 'famous', 'fandorin', 'fang', 'fantasy', 'far', 'farm', 'farmer', 'fashion', 'fast', 'faster', 'fat', 'fatal', 'fate', 'father', 'favor', 'favorite', 'fbi', 'fear', 'feared', 'fearing', 'fears', 'feast', 'features', 'federation', 'feed', 'feel', 'feeling', 'feelings', 'feels', 'feet', 'felix', 'fell', 'fellow', 'felt', 'female', 'festival', 'fever', 'few', 'fiction', 'fictional', 'field', 'fields', 'fierce', 'fifteen', 'fifth', 'fight', 'fighter', 'fighting', 'fights', 'figure', 'figures', 'filled', 'film', 'final', 'finally', 'financial', 'find', 'finding', 'finds', 'fine', 'finger', 'finish', 'finished', 'finn', 'fire', 'fired', 'fires', 'firm', 'first', 'fish', 'fishing', 'fit', 'fitz', 'five', 'fix', 'flame', 'flat', 'flavia', 'fled', 'flee', 'fleeing', 'flees', 'fleet', 'fletcher', 'flies', 'flight', 'flinx', 'floating', 'flock', 'flood', 'floor', 'florence', 'florida', 'flower', 'flowers', 'fly', 'flying', 'focus', 'focuses', 'folk', 'follow', 'followed', 'followers', 'following', 'follows', 'fone', 'food', 'fool', 'foot', 'football', 'for', 'forbidden', 'force', 'forced', 'forces', 'forcing', 'ford', 'foreign', 'forest', 'forever', 'forget', 'forgotten', 'form', 'formed', 'former', 'formerly', 'forms', 'fort', 'forth', 'fortress', 'fortunately', 'fortune', 'forty', 'forward', 'foster', 'fought', 'foul', 'found', 'foundation', 'four', 'fourteen', 'fourth', 'fox', 'frame', 'france', 'francis', 'francisco', 'frank', 'fred', 'freddy', 'free', 'freed', 'freedom', 'frees', 'french', 'frequently', 'fresh', 'friend', 'friendly', 'friends', 'friendship', 'frightened', 'from', 'front', 'frozen', 'frustrated', 'fuel', 'full', 'fully', 'fun', 'funeral', 'furious', 'further', 'future', 'gabriel', 'gain', 'gained', 'gains', 'galactic', 'galaxy', 'game', 'games', 'gang', 'garden', 'gardens', 'garrett', 'gas', 'gate', 'gates', 'gather', 'gathered', 'gathering', 'gave', 'gay', 'gemma', 'general', 'generally', 'generation', 'generations', 'genetic', 'genius', 'gentle', 'gentleman', 'george', 'gerald', 'german', 'germany', 'get', 'gets', 'getting', 'ghost', 'ghosts', 'giant', 'giants', 'gift', 'gifts', 'gilbert', 'giles', 'girl', 'girlfriend', 'girls', 'give', 'given', 'gives', 'giving', 'glass', 'global', 'go', 'goal', 'goblin', 'goblins', 'god', 'goddess', 'gods', 'goes', 'going', 'gold', 'golden', 'gone', 'good', 'gordon', 'got', 'gotten', 'government', 'governor', 'grabs', 'grace', 'grade', 'gradually', 'grady', 'graham', 'grand', 'granddaughter', 'grandfather', 'grandmother', 'grandson', 'grant', 'granted', 'grave', 'gravity', 'gray', 'great', 'greater', 'greatest', 'greatly', 'greek', 'green', 'gregor', 'grew', 'grey', 'grief', 'griffin', 'ground', 'grounds', 'group', 'groups', 'grow', 'growing', 'grown', 'grows', 'grubbs', 'guard', 'guarded', 'guardian', 'guards', 'guest', 'guests', 'guide', 'guild', 'guilt', 'guilty', 'gun', 'gunnar', 'guns', 'guy', 'had', 'hair', 'hal', 'half', 'hall', 'hammer', 'han', 'hand', 'hands', 'handsome', 'hanging', 'hank', 'hannah', 'haplo', 'happen', 'happened', 'happening', 'happens', 'happily', 'happiness', 'happy', 'harbor', 'hard', 'hardy', 'harm', 'harold', 'harper', 'harriet', 'harry', 'has', 'hat', 'hate', 'hates', 'hatred', 'haunted', 'have', 'haven', 'having', 'hawk', 'hawkmoon', 'he', 'head', 'headed', 'heading', 'headquarters', 'heads', 'heal', 'healing', 'heals', 'health', 'hear', 'heard', 'hearing', 'hears', 'heart', 'heat', 'heaven', 'heavily', 'heavy', 'heir', 'held', 'helen', 'helicopter', 'hell', 'help', 'helped', 'helping', 'helps', 'hence', 'henry', 'her', 'here', 'heritage', 'hero', 'heroes', 'herself', 'hester', 'hidden', 'hide', 'hides', 'hiding', 'high', 'higher', 'highest', 'highly', 'hill', 'him', 'himself', 'hired', 'hires', 'his', 'historical', 'history', 'hit', 'hitler', 'hits', 'hive', 'hold', 'holding', 'holds', 'hole', 'holiday', 'holly', 'hollywood', 'holmes', 'holy', 'home', 'homes', 'homeworld', 'honor', 'hope', 'hopes', 'hoping', 'horde', 'horn', 'horrible', 'horrified', 'horror', 'horse', 'horses', 'hospital', 'host', 'hostage', 'hostile', 'hot', 'hotel', 'hour', 'hours', 'house', 'household', 'houses', 'how', 'howard', 'however', 'huge', 'hugh', 'hugo', 'human', 'humanity', 'humans', 'hundred', 'hundreds', 'hungry', 'hunt', 'hunter', 'hunters', 'hunting', 'hurt', 'husband', 'ian', 'ice', 'idea', 'ideas', 'identical', 'identified', 'identifies', 'identify', 'identity', 'if', 'ii', 'iii', 'ill', 'illegal', 'illness', 'image', 'immediate', 'immediately', 'immortal', 'immortality', 'impending', 'imperial', 'implied', 'important', 'impossible', 'impressed', 'imprisoned', 'improve', 'imriel', 'in', 'inadvertently', 'incident', 'include', 'includes', 'including', 'increasing', 'increasingly', 'indeed', 'independence', 'independent', 'india', 'indian', 'indians', 'individual', 'individuals', 'infant', 'infected', 'infiltrate', 'influence', 'inform', 'information', 'informed', 'informing', 'informs', 'inhabitants', 'inhabited', 'inheritance', 'inherited', 'initial', 'initially', 'injured', 'injuries', 'injury', 'inn', 'inner', 'innocence', 'innocent', 'insane', 'inside', 'insists', 'inspector', 'inspired', 'instantly', 'instead', 'institute', 'instructions', 'instructs', 'intellectual', 'intelligence', 'intelligent', 'intended', 'intending', 'intends', 'intense', 'intent', 'intention', 'intentions', 'interest', 'interested', 'interesting', 'interests', 'internal', 'international', 'interrupted', 'interstellar', 'interview', 'into', 'introduced', 'introduces', 'introduction', 'invade', 'invaders', 'invasion', 'investigate', 'investigates', 'investigating', 'investigation', 'investigations', 'invisible', 'invitation', 'invited', 'invites', 'involved', 'involvement', 'involves', 'involving', 'ireland', 'irish', 'iron', 'is', 'isabel', 'ishmael', 'island', 'islands', 'isle', 'isn', 'isolated', 'issue', 'issues', 'it', 'italian', 'italy', 'items', 'its', 'itself', 'iv', 'ivy', 'ix', 'jacen', 'jack', 'jackson', 'jacky', 'jacob', 'jail', 'jake', 'james', 'jamie', 'jane', 'japan', 'japanese', 'jason', 'jay', 'jealous', 'jean', 'jedi', 'jeff', 'jennifer', 'jenny', 'jeremy', 'jerry', 'jessica', 'jesus', 'jewel', 'jewish', 'jews', 'jill', 'jim', 'jimmy', 'jo', 'joan', 'job', 'jobs', 'joe', 'joey', 'john', 'johnny', 'join', 'joined', 'joining', 'joins', 'jon', 'jonah', 'jonathan', 'jones', 'joscelin', 'joseph', 'josh', 'joshua', 'journal', 'journalist', 'journey', 'joy', 'judge', 'judith', 'julia', 'julian', 'julie', 'july', 'jump', 'jumps', 'june', 'jungle', 'junior', 'jupiter', 'just', 'justice', 'justin', 'kahlan', 'kane', 'karen', 'karl', 'kate', 'katherine', 'kay', 'keep', 'keeper', 'keeping', 'keeps', 'keith', 'kellen', 'kelly', 'kelson', 'ken', 'kennedy', 'kept', 'kevin', 'key', 'keys', 'khan', 'kid', 'kidnap', 'kidnapped', 'kidnapping', 'kidnaps', 'kids', 'kill', 'killed', 'killer', 'killing', 'kills', 'kim', 'kind', 'king', 'kingdom', 'kings', 'kinsey', 'kirk', 'kiss', 'kisses', 'kit', 'kitchen', 'kitty', 'knew', 'knife', 'knight', 'knights', 'knocked', 'knocks', 'know', 'knowing', 'knowledge', 'known', 'knows', 'kyle', 'la', 'lab', 'labor', 'laboratory', 'lack', 'ladies', 'lady', 'lair', 'lake', 'land', 'landing', 'lands', 'language', 'large', 'largely', 'larger', 'larry', 'last', 'late', 'later', 'latest', 'latter', 'launch', 'launches', 'laura', 'lauren', 'law', 'laws', 'lawyer', 'lay', 'le', 'lead', 'leader', 'leaders', 'leadership', 'leading', 'leads', 'league', 'learn', 'learned', 'learning', 'learns', 'least', 'leave', 'leaves', 'leaving', 'led', 'lee', 'left', 'leg', 'legal', 'legend', 'legendary', 'legs', 'leia', 'lena', 'leo', 'less', 'let', 'leto', 'lets', 'letter', 'letters', 'letting', 'level', 'levels', 'lew', 'lewis', 'library', 'lie', 'lies', 'lieutenant', 'life', 'lifestyle', 'light', 'lightning', 'lights', 'like', 'likely', 'likes', 'lily', 'limited', 'linda', 'linden', 'lindsay', 'line', 'lines', 'link', 'linked', 'lion', 'lisa', 'list', 'listen', 'lister', 'literally', 'literary', 'literature', 'little', 'live', 'lived', 'lives', 'living', 'll', 'local', 'locate', 'located', 'location', 'lock', 'locked', 'logan', 'london', 'lone', 'lonely', 'long', 'longer', 'look', 'looked', 'looking', 'looks', 'loose', 'lord', 'lords', 'los', 'lose', 'loses', 'losing', 'loss', 'lost', 'lot', 'louis', 'louise', 'love', 'loved', 'lover', 'lovers', 'loves', 'loving', 'low', 'lower', 'loyal', 'loyalty', 'lucas', 'luck', 'lucy', 'luke', 'luna', 'lunch', 'lying', 'lyra', 'ma', 'mac', 'machine', 'machines', 'mad', 'madame', 'made', 'madness', 'mage', 'mages', 'maggie', 'magic', 'magical', 'magician', 'magicians', 'maid', 'mail', 'main', 'mainly', 'maintain', 'major', 'majority', 'make', 'makes', 'making', 'male', 'man', 'manage', 'managed', 'manager', 'manages', 'manhattan', 'mankind', 'manner', 'manor', 'mansion', 'manticore', 'manuscript', 'many', 'map', 'mara', 'march', 'marco', 'marcus', 'margaret', 'maria', 'marianne', 'marie', 'marina', 'marine', 'marines', 'marius', 'mark', 'market', 'marks', 'marlowe', 'marple', 'marriage', 'married', 'marries', 'marry', 'marrying', 'mars', 'martha', 'martian', 'martians', 'martin', 'mary', 'mask', 'mass', 'massive', 'master', 'masters', 'match', 'mate', 'material', 'matt', 'matter', 'matters', 'matthew', 'max', 'may', 'mayor', 'maze', 'mdash', 'me', 'mean', 'meaning', 'means', 'meant', 'meantime', 'meanwhile', 'media', 'medical', 'medicine', 'meet', 'meeting', 'meets', 'meg', 'member', 'members', 'memories', 'memory', 'men', 'mental', 'mentally', 'mention', 'mentioned', 'mentions', 'mentor', 'mercenaries', 'mercenary', 'merchant', 'merely', 'merlin', 'merry', 'message', 'messages', 'messenger', 'met', 'metal', 'method', 'methods', 'mexico', 'michael', 'mid', 'middle', 'midnight', 'midst', 'might', 'mike', 'miles', 'military', 'milk', 'miller', 'million', 'millions', 'mind', 'minds', 'mine', 'mining', 'minister', 'minor', 'minute', 'minutes', 'miranda', 'mirror', 'miss', 'misses', 'missile', 'missing', 'mission', 'mistake', 'mistakes', 'mistress', 'mitch', 'mixed', 'mob', 'model', 'modern', 'mole', 'molly', 'mom', 'moment', 'moments', 'monastery', 'money', 'monk', 'monkey', 'monster', 'monsters', 'month', 'months', 'moon', 'moral', 'more', 'morgan', 'morning', 'morph', 'morris', 'mortal', 'mortally', 'moscow', 'most', 'mostly', 'mother', 'motive', 'motives', 'mount', 'mountain', 'mountains', 'mouse', 'mouth', 'move', 'moved', 'movement', 'moves', 'movie', 'moving', 'mr', 'mrs', 'ms', 'much', 'multiple', 'murder', 'murdered', 'murderer', 'murdering', 'murders', 'museum', 'music', 'must', 'mutual', 'my', 'mysterious', 'mysteriously', 'mystery', 'naked', 'name', 'named', 'names', 'nancy', 'naomi', 'narrated', 'narration', 'narrative', 'narrator', 'narrowly', 'natalie', 'nate', 'nathan', 'nathaniel', 'nation', 'national', 'nations', 'native', 'natives', 'natural', 'naturally', 'nature', 'naval', 'navy', 'nazi', 'nbsp', 'ndash', 'near', 'nearby', 'nearly', 'necessary', 'neck', 'ned', 'need', 'needed', 'needs', 'neighbor', 'neighborhood', 'neighboring', 'neighbors', 'neither', 'nephew', 'nervous', 'nest', 'network', 'never', 'nevertheless', 'new', 'newly', 'news', 'newspaper', 'next', 'nice', 'nicholas', 'nick', 'nicknamed', 'niece', 'nigel', 'night', 'nightmare', 'nine', 'no', 'noble', 'nobody', 'noise', 'non', 'none', 'nor', 'nora', 'normal', 'normally', 'norman', 'north', 'northern', 'not', 'note', 'notes', 'nothing', 'notice', 'noticed', 'notices', 'novel', 'novels', 'now', 'nowhere', 'nuclear', 'number', 'numbers', 'numerous', 'nurse', 'oath', 'obi', 'object', 'objects', 'obsessed', 'obsession', 'obtain', 'obvious', 'obviously', 'occasionally', 'occupied', 'occur', 'occurred', 'occurs', 'ocean', 'odd', 'of', 'off', 'offer', 'offered', 'offering', 'offers', 'office', 'officer', 'officers', 'official', 'officials', 'often', 'oil', 'olaf', 'old', 'older', 'oldest', 'oliver', 'on', 'once', 'one', 'ones', 'only', 'onto', 'open', 'opened', 'opening', 'openly', 'opens', 'opera', 'operation', 'operations', 'opinion', 'opportunity', 'opposite', 'or', 'orbit', 'order', 'ordered', 'orders', 'ordinary', 'organization', 'organized', 'origin', 'original', 'originally', 'orphan', 'orphaned', 'oscar', 'other', 'others', 'otherwise', 'our', 'out', 'outer', 'outside', 'over', 'overcome', 'overhears', 'overthrow', 'owen', 'owl', 'own', 'owned', 'owner', 'owners', 'owns', 'oxford', 'oz', 'ozma', 'pacific', 'pack', 'page', 'pages', 'pahner', 'paid', 'pain', 'painful', 'painting', 'pair', 'palace', 'panic', 'paper', 'papers', 'paradise', 'parallel', 'parents', 'paris', 'park', 'part', 'partially', 'participate', 'particular', 'particularly', 'parties', 'partly', 'partner', 'parts', 'party', 'pass', 'passage', 'passed', 'passengers', 'passes', 'passing', 'passion', 'past', 'patch', 'path', 'patient', 'patrick', 'patrol', 'pattern', 'paul', 'pay', 'paying', 'pays', 'peace', 'peaceful', 'pearl', 'pen', 'people', 'percy', 'perfect', 'perform', 'performance', 'performing', 'perhaps', 'period', 'permanent', 'permanently', 'permission', 'person', 'personal', 'personality', 'personally', 'perspective', 'persuade', 'persuaded', 'persuades', 'pet', 'pete', 'peter', 'philip', 'phoebe', 'phoenix', 'phone', 'physical', 'physically', 'phèdre', 'pick', 'picked', 'picks', 'picture', 'pictures', 'piece', 'pieces', 'pig', 'pilot', 'pinocchio', 'piper', 'pirate', 'pirates', 'pit', 'place', 'placed', 'places', 'plague', 'plain', 'plan', 'plane', 'planet', 'planets', 'planned', 'planning', 'plans', 'plant', 'planted', 'plants', 'play', 'played', 'player', 'playing', 'plays', 'pleased', 'plot', 'plots', 'plotting', 'pocket', 'poem', 'poet', 'point', 'points', 'poirot', 'poison', 'poisoned', 'poisoning', 'pole', 'police', 'policeman', 'political', 'politics', 'polly', 'pool', 'poor', 'pope', 'popular', 'population', 'port', 'portal', 'portion', 'posing', 'position', 'possess', 'possessed', 'possesses', 'possession', 'possibility', 'possible', 'possibly', 'post', 'potential', 'potion', 'poverty', 'power', 'powerful', 'powers', 'practice', 'pre', 'precious', 'pregnancy', 'pregnant', 'prepare', 'prepared', 'prepares', 'preparing', 'presence', 'present', 'presented', 'presents', 'preserve', 'president', 'press', 'pressure', 'presumably', 'pretending', 'pretends', 'pretty', 'prevent', 'prevents', 'previous', 'previously', 'prey', 'price', 'priest', 'priestess', 'priests', 'primary', 'prime', 'prince', 'princess', 'principal', 'prior', 'prison', 'prisoner', 'prisoners', 'private', 'prize', 'probably', 'problem', 'problems', 'proceed', 'proceeds', 'process', 'produce', 'production', 'professional', 'professor', 'program', 'progress', 'progresses', 'project', 'prologue', 'prominent', 'promise', 'promised', 'promises', 'promising', 'promptly', 'proof', 'proper', 'property', 'prophecy', 'proposal', 'proposes', 'prostitute', 'protagonist', 'protagonists', 'protect', 'protected', 'protection', 'prove', 'proves', 'provide', 'provided', 'provides', 'providing', 'psychic', 'public', 'published', 'pull', 'pulled', 'pulls', 'punishment', 'purpose', 'pursue', 'pursued', 'pursues', 'pursuing', 'pursuit', 'pushes', 'put', 'puts', 'putting', 'quarters', 'queen', 'quentin', 'quest', 'question', 'questioning', 'questions', 'quick', 'quickly', 'quiet', 'quinn', 'quite', 'rabbit', 'race', 'races', 'rachel', 'radiation', 'radio', 'rage', 'raid', 'rain', 'raise', 'raised', 'raises', 'raistlin', 'ralph', 'rama', 'ramona', 'ran', 'rand', 'random', 'range', 'rank', 'ransom', 'rape', 'raped', 'rapidly', 'rare', 'rat', 'rather', 'rats', 'raven', 'ray', 'raymond', 're', 'reach', 'reached', 'reacher', 'reaches', 'reaching', 'reaction', 'read', 'reader', 'readers', 'reading', 'reads', 'ready', 'real', 'realise', 'realises', 'reality', 'realize', 'realized', 'realizes', 'realizing', 'really', 'realm', 'reason', 'reasons', 'rebecca', 'rebel', 'rebellion', 'rebels', 'rebuild', 'rebus', 'recalls', 'receive', 'received', 'receives', 'receiving', 'recent', 'recently', 'recognize', 'recognizes', 'record', 'records', 'recounts', 'recover', 'recovered', 'recovering', 'recovers', 'recovery', 'recruited', 'red', 'reduced', 'redwall', 'reference', 'referred', 'refers', 'reflects', 'refuge', 'refugees', 'refuse', 'refused', 'refuses', 'refusing', 'regain', 'regarding', 'region', 'regular', 'regularly', 'reign', 'rejected', 'rejects', 'related', 'relates', 'relations', 'relationship', 'relationships', 'relative', 'relatively', 'relatives', 'release', 'released', 'releases', 'religion', 'religious', 'reluctant', 'reluctantly', 'remain', 'remained', 'remaining', 'remains', 'remember', 'remembers', 'reminds', 'remote', 'remove', 'removed', 'repair', 'repeatedly', 'replace', 'replaced', 'replies', 'report', 'reporter', 'reports', 'represents', 'republic', 'reputation', 'request', 'requests', 'required', 'requires', 'rescue', 'rescued', 'rescues', 'rescuing', 'research', 'residence', 'residents', 'resist', 'resistance', 'resolve', 'resolves', 'resort', 'resources', 'respect', 'responds', 'response', 'responsibility', 'responsible', 'rest', 'restaurant', 'restore', 'restored', 'result', 'resulting', 'results', 'retired', 'retreat', 'retrieve', 'return', 'returned', 'returning', 'returns', 'reunion', 'reunite', 'reunited', 'reveal', 'revealed', 'revealing', 'reveals', 'revelation', 'revenge', 'reverse', 'revolt', 'revolution', 'revolutionary', 'revolves', 'reward', 'rhys', 'rich', 'richard', 'rid', 'ride', 'rides', 'riding', 'right', 'rights', 'ring', 'rings', 'ripley', 'rise', 'rises', 'rising', 'risk', 'ritual', 'rival', 'river', 'road', 'rob', 'robbery', 'robert', 'robin', 'robot', 'robots', 'rock', 'rocket', 'rod', 'roger', 'rogue', 'roland', 'role', 'roman', 'romance', 'romantic', 'rome', 'ron', 'roof', 'room', 'rooms', 'rosa', 'rose', 'ross', 'round', 'route', 'rowan', 'roy', 'royal', 'ruby', 'ruin', 'ruined', 'ruins', 'rule', 'ruled', 'ruler', 'rules', 'ruling', 'rumors', 'run', 'running', 'runs', 'rural', 'rush', 'rushes', 'russia', 'russian', 'ruth', 'ruthless', 'ryan', 'sabotage', 'sacrifice', 'sacrifices', 'sad', 'safe', 'safely', 'safety', 'said', 'sail', 'sailing', 'sailor', 'saint', 'sal', 'sally', 'sam', 'same', 'sammy', 'san', 'sanctuary', 'sandy', 'santa', 'sara', 'sarah', 'satan', 'satellite', 'saul', 'save', 'saved', 'saves', 'saving', 'saw', 'say', 'saying', 'says', 'scale', 'scared', 'scarlett', 'scene', 'scenes', 'scheme', 'school', 'science', 'scientific', 'scientist', 'scientists', 'scotland', 'scott', 'sea', 'sealed', 'search', 'searches', 'searching', 'season', 'second', 'secret', 'secretary', 'secretly', 'secrets', 'section', 'sections', 'secure', 'security', 'see', 'seeing', 'seek', 'seeker', 'seeking', 'seeks', 'seem', 'seemed', 'seemingly', 'seems', 'seen', 'sees', 'seize', 'self', 'sell', 'selling', 'sells', 'semi', 'senator', 'send', 'sending', 'sends', 'senior', 'sense', 'senses', 'sent', 'sentence', 'sentenced', 'sentient', 'separate', 'separated', 'sequel', 'sergeant', 'serial', 'series', 'serious', 'seriously', 'serpent', 'servant', 'servants', 'serve', 'served', 'serves', 'service', 'services', 'serving', 'set', 'seth', 'sets', 'setting', 'settle', 'settled', 'settlement', 'seven', 'seventh', 'several', 'severe', 'severely', 'sex', 'sexual', 'sexually', 'shade', 'shadow', 'shadows', 'shadrach', 'shall', 'shan', 'shape', 'shaped', 'share', 'shared', 'shares', 'sharing', 'she', 'sheep', 'shelter', 'sheriff', 'shield', 'shifts', 'ship', 'ships', 'shock', 'shocked', 'shoes', 'shoot', 'shooting', 'shoots', 'shop', 'shore', 'short', 'shortly', 'shot', 'should', 'show', 'showing', 'shown', 'shows', 'shut', 'shuttle', 'siblings', 'sick', 'sickness', 'side', 'sides', 'sidonie', 'siege', 'sight', 'sign', 'signal', 'significant', 'signs', 'silence', 'silent', 'silver', 'similar', 'simon', 'simple', 'simply', 'simultaneously', 'since', 'sing', 'singer', 'singing', 'single', 'sinister', 'sir', 'sister', 'sisters', 'site', 'sits', 'sitting', 'situation', 'six', 'sixteen', 'sixth', 'size', 'skill', 'skills', 'skin', 'skulduggery', 'skull', 'sky', 'skywalker', 'slain', 'slave', 'slavery', 'slaves', 'sleep', 'sleeping', 'slightly', 'slip', 'slips', 'slow', 'slowly', 'small', 'smaller', 'smell', 'smith', 'smoke', 'snake', 'sneak', 'sneaks', 'snow', 'so', 'social', 'society', 'solar', 'sold', 'soldier', 'soldiers', 'sole', 'solo', 'solution', 'solve', 'some', 'somehow', 'someone', 'something', 'sometimes', 'somewhat', 'somewhere', 'son', 'sonea', 'song', 'sons', 'sookie', 'soon', 'sophia', 'sophie', 'sorcerer', 'sorceress', 'sort', 'soul', 'souls', 'sound', 'source', 'south', 'southern', 'soviet', 'space', 'spacecraft', 'spaceship', 'spain', 'spanish', 'spare', 'speak', 'speaking', 'speaks', 'special', 'species', 'specific', 'specifically', 'speech', 'speed', 'spell', 'spend', 'spending', 'spends', 'spent', 'spider', 'spies', 'spirit', 'spirits', 'spiritual', 'spite', 'split', 'spot', 'spots', 'spread', 'spring', 'spy', 'squad', 'square', 'st', 'stabbed', 'stable', 'staff', 'stage', 'stand', 'standing', 'stands', 'star', 'stark', 'starr', 'stars', 'starship', 'start', 'started', 'starting', 'starts', 'state', 'stated', 'states', 'stating', 'station', 'statue', 'status', 'stay', 'staying', 'stays', 'steal', 'stealing', 'steals', 'steel', 'step', 'stephanie', 'stephen', 'steps', 'steve', 'still', 'stole', 'stolen', 'stone', 'stones', 'stop', 'stopped', 'stopping', 'stops', 'store', 'stories', 'storm', 'storms', 'story', 'straight', 'stranded', 'strange', 'strangely', 'stranger', 'stream', 'street', 'streets', 'strength', 'stricken', 'strike', 'strikes', 'strong', 'stronger', 'strongly', 'struck', 'structure', 'struggle', 'struggles', 'struggling', 'stuck', 'student', 'students', 'studies', 'study', 'studying', 'stumbles', 'style', 'sub', 'subject', 'submarine', 'subsequent', 'subsequently', 'succeed', 'succeeds', 'success', 'successful', 'successfully', 'such', 'sudden', 'suddenly', 'suffer', 'suffered', 'suffering', 'suffers', 'suggestion', 'suggests', 'suicide', 'suit', 'summer', 'summon', 'summoned', 'summons', 'sun', 'sunny', 'super', 'superior', 'supernatural', 'supplies', 'supply', 'support', 'supposed', 'supposedly', 'sure', 'surface', 'surgery', 'surprise', 'surprised', 'surrender', 'surrounded', 'surrounding', 'survival', 'survive', 'survived', 'survives', 'surviving', 'survivor', 'survivors', 'susan', 'suspect', 'suspected', 'suspects', 'suspended', 'suspicion', 'suspicions', 'suspicious', 'swamp', 'swan', 'sword', 'symbol', 'system', 'systems', 'table', 'tail', 'take', 'taken', 'takes', 'taking', 'tale', 'talent', 'talented', 'tales', 'talk', 'talking', 'talks', 'tall', 'tam', 'tank', 'tar', 'taran', 'target', 'tarzan', 'task', 'taught', 'taylor', 'tea', 'teach', 'teacher', 'teachers', 'teaches', 'teaching', 'team', 'tears', 'technological', 'technology', 'ted', 'teenage', 'teenager', 'teeth', 'telepathic', 'television', 'tell', 'telling', 'tells', 'templar', 'temple', 'temporarily', 'temporary', 'ten', 'tender', 'tension', 'term', 'terms', 'terrible', 'terrified', 'territory', 'terror', 'terrorist', 'terrorists', 'terry', 'tess', 'test', 'tests', 'texas', 'text', 'than', 'thanks', 'that', 'the', 'theatre', 'theft', 'their', 'them', 'theme', 'themselves', 'then', 'theo', 'theory', 'there', 'thereafter', 'thereby', 'therefore', 'theron', 'these', 'they', 'thief', 'thieves', 'thin', 'thing', 'things', 'think', 'thinking', 'thinks', 'third', 'thirteen', 'thirty', 'this', 'thomas', 'thorn', 'those', 'though', 'thought', 'thoughts', 'thousand', 'thousands', 'threat', 'threaten', 'threatened', 'threatening', 'threatens', 'threats', 'three', 'throat', 'throne', 'through', 'throughout', 'throw', 'throwing', 'thrown', 'throws', 'thunderclan', 'thus', 'tied', 'ties', 'tiger', 'tim', 'time', 'timeline', 'times', 'tin', 'tiny', 'tired', 'title', 'to', 'tobias', 'todd', 'together', 'told', 'tom', 'tomb', 'tommy', 'tony', 'too', 'took', 'top', 'torak', 'torn', 'torture', 'tortured', 'total', 'touch', 'tour', 'toward', 'towards', 'tower', 'town', 'townspeople', 'toy', 'trace', 'track', 'tracking', 'tracks', 'trade', 'trading', 'tradition', 'traditional', 'tragedy', 'trail', 'train', 'trained', 'training', 'traitor', 'transfer', 'transform', 'transformed', 'transport', 'transported', 'trap', 'trapped', 'traps', 'travel', 'travelers', 'traveling', 'travelling', 'travels', 'treasure', 'treat', 'treated', 'treatment', 'treats', 'tree', 'trees', 'trial', 'tribe', 'tribes', 'trick', 'tricks', 'tried', 'tries', 'trio', 'trip', 'troops', 'trouble', 'troubled', 'troubles', 'truck', 'true', 'truly', 'trust', 'truth', 'try', 'trying', 'tunnel', 'tunnels', 'turn', 'turned', 'turning', 'turns', 'tv', 'twelve', 'twenty', 'twice', 'twin', 'twins', 'two', 'tyler', 'type', 'typical', 'ultimate', 'ultimately', 'unable', 'unaware', 'unbeknownst', 'uncle', 'unconscious', 'uncover', 'under', 'underground', 'understand', 'understanding', 'understands', 'underworld', 'unexpected', 'unexpectedly', 'unfortunately', 'unhappy', 'unicorn', 'union', 'unique', 'unit', 'united', 'universe', 'university', 'unknown', 'unless', 'unlike', 'unnamed', 'unsuccessful', 'until', 'unusual', 'unwilling', 'up', 'upon', 'upper', 'upset', 'urges', 'us', 'use', 'used', 'uses', 'using', 'usual', 'usually', 'vacation', 'valentine', 'valkyrie', 'valley', 'valuable', 'value', 'vampire', 'vampires', 'van', 'vanished', 'variety', 'various', 'vast', 've', 'vehicle', 'vengeance', 'venture', 'venus', 'version', 'very', 'vessel', 'veteran', 'via', 'vice', 'vicious', 'victim', 'victims', 'victor', 'victoria', 'victory', 'video', 'vietnam', 'view', 'views', 'villa', 'village', 'villagers', 'violence', 'violent', 'violet', 'virginia', 'virtual', 'virus', 'vision', 'visions', 'visit', 'visited', 'visiting', 'visitors', 'visits', 'visser', 'vlad', 'voice', 'voices', 'void', 'volunteers', 'von', 'vong', 'vote', 'vows', 'voyage', 'wait', 'waiting', 'waits', 'wake', 'wakes', 'walk', 'walker', 'walking', 'walks', 'wall', 'walls', 'walter', 'wan', 'wandering', 'wanders', 'want', 'wanted', 'wanting', 'wants', 'war', 'ward', 'warden', 'warn', 'warned', 'warning', 'warns', 'warrior', 'warriors', 'wars', 'was', 'washington', 'wasn', 'waste', 'watch', 'watches', 'watching', 'water', 'waters', 'watson', 'wave', 'way', 'ways', 'we', 'weak', 'wealth', 'wealthy', 'weapon', 'weapons', 'wear', 'wearing', 'wears', 'weather', 'web', 'webster', 'wedding', 'week', 'weeks', 'welcome', 'well', 'went', 'were', 'werewolf', 'west', 'western', 'what', 'whatever', 'when', 'where', 'whereabouts', 'whether', 'which', 'while', 'whilst', 'white', 'who', 'whole', 'whom', 'whose', 'why', 'wicked', 'wide', 'widow', 'wife', 'wild', 'wilderness', 'will', 'william', 'williams', 'willie', 'willing', 'willow', 'win', 'wind', 'window', 'winds', 'wine', 'wing', 'wings', 'winning', 'wins', 'winter', 'wise', 'wish', 'wishes', 'witch', 'witches', 'with', 'within', 'without', 'witness', 'witnessed', 'witnesses', 'wizard', 'wizards', 'wolf', 'wolfe', 'wolves', 'woman', 'women', 'won', 'wonder', 'wonders', 'wood', 'wooden', 'woods', 'word', 'words', 'work', 'worked', 'worker', 'workers', 'working', 'works', 'world', 'worlds', 'worried', 'worries', 'worse', 'worst', 'worth', 'would', 'wouldn', 'wound', 'wounded', 'wounds', 'write', 'writer', 'writes', 'writing', 'written', 'wrong', 'wrote', 'xanth', 'yacht', 'yard', 'year', 'years', 'yeerk', 'yeerks', 'yellow', 'yet', 'york', 'you', 'young', 'younger', 'youngest', 'your', 'youth', 'yuuzhan', 'zero', 'zoey', 'zone', 'zoo']\n"
     ]
    }
   ],
   "source": [
    "print(vectorizer.get_feature_names())"
   ]
  },
  {
   "cell_type": "code",
   "execution_count": 8,
   "metadata": {},
   "outputs": [],
   "source": [
    "labels=vectorizer.get_feature_names()"
   ]
  },
  {
   "cell_type": "code",
   "execution_count": 9,
   "metadata": {},
   "outputs": [
    {
     "data": {
      "text/html": [
       "<div>\n",
       "<style scoped>\n",
       "    .dataframe tbody tr th:only-of-type {\n",
       "        vertical-align: middle;\n",
       "    }\n",
       "\n",
       "    .dataframe tbody tr th {\n",
       "        vertical-align: top;\n",
       "    }\n",
       "\n",
       "    .dataframe thead th {\n",
       "        text-align: right;\n",
       "    }\n",
       "</style>\n",
       "<table border=\"1\" class=\"dataframe\">\n",
       "  <thead>\n",
       "    <tr style=\"text-align: right;\">\n",
       "      <th></th>\n",
       "      <th>000</th>\n",
       "      <th>10</th>\n",
       "      <th>100</th>\n",
       "      <th>11</th>\n",
       "      <th>12</th>\n",
       "      <th>13</th>\n",
       "      <th>14</th>\n",
       "      <th>15</th>\n",
       "      <th>16</th>\n",
       "      <th>17</th>\n",
       "      <th>...</th>\n",
       "      <th>young</th>\n",
       "      <th>younger</th>\n",
       "      <th>youngest</th>\n",
       "      <th>your</th>\n",
       "      <th>youth</th>\n",
       "      <th>yuuzhan</th>\n",
       "      <th>zero</th>\n",
       "      <th>zoey</th>\n",
       "      <th>zone</th>\n",
       "      <th>zoo</th>\n",
       "    </tr>\n",
       "  </thead>\n",
       "  <tbody>\n",
       "    <tr>\n",
       "      <th>0</th>\n",
       "      <td>0.000000</td>\n",
       "      <td>0.000000</td>\n",
       "      <td>0.0</td>\n",
       "      <td>0.0</td>\n",
       "      <td>0.0</td>\n",
       "      <td>0.0</td>\n",
       "      <td>0.0</td>\n",
       "      <td>0.0</td>\n",
       "      <td>0.0</td>\n",
       "      <td>0.0</td>\n",
       "      <td>...</td>\n",
       "      <td>0.023571</td>\n",
       "      <td>0.0</td>\n",
       "      <td>0.0</td>\n",
       "      <td>0.0</td>\n",
       "      <td>0.0</td>\n",
       "      <td>0.0</td>\n",
       "      <td>0.0</td>\n",
       "      <td>0.0</td>\n",
       "      <td>0.000000</td>\n",
       "      <td>0.0</td>\n",
       "    </tr>\n",
       "    <tr>\n",
       "      <th>1</th>\n",
       "      <td>0.000000</td>\n",
       "      <td>0.000000</td>\n",
       "      <td>0.0</td>\n",
       "      <td>0.0</td>\n",
       "      <td>0.0</td>\n",
       "      <td>0.0</td>\n",
       "      <td>0.0</td>\n",
       "      <td>0.0</td>\n",
       "      <td>0.0</td>\n",
       "      <td>0.0</td>\n",
       "      <td>...</td>\n",
       "      <td>0.017909</td>\n",
       "      <td>0.0</td>\n",
       "      <td>0.0</td>\n",
       "      <td>0.0</td>\n",
       "      <td>0.0</td>\n",
       "      <td>0.0</td>\n",
       "      <td>0.0</td>\n",
       "      <td>0.0</td>\n",
       "      <td>0.000000</td>\n",
       "      <td>0.0</td>\n",
       "    </tr>\n",
       "    <tr>\n",
       "      <th>2</th>\n",
       "      <td>0.000000</td>\n",
       "      <td>0.000000</td>\n",
       "      <td>0.0</td>\n",
       "      <td>0.0</td>\n",
       "      <td>0.0</td>\n",
       "      <td>0.0</td>\n",
       "      <td>0.0</td>\n",
       "      <td>0.0</td>\n",
       "      <td>0.0</td>\n",
       "      <td>0.0</td>\n",
       "      <td>...</td>\n",
       "      <td>0.011729</td>\n",
       "      <td>0.0</td>\n",
       "      <td>0.0</td>\n",
       "      <td>0.0</td>\n",
       "      <td>0.0</td>\n",
       "      <td>0.0</td>\n",
       "      <td>0.0</td>\n",
       "      <td>0.0</td>\n",
       "      <td>0.000000</td>\n",
       "      <td>0.0</td>\n",
       "    </tr>\n",
       "    <tr>\n",
       "      <th>4</th>\n",
       "      <td>0.032637</td>\n",
       "      <td>0.033548</td>\n",
       "      <td>0.0</td>\n",
       "      <td>0.0</td>\n",
       "      <td>0.0</td>\n",
       "      <td>0.0</td>\n",
       "      <td>0.0</td>\n",
       "      <td>0.0</td>\n",
       "      <td>0.0</td>\n",
       "      <td>0.0</td>\n",
       "      <td>...</td>\n",
       "      <td>0.017243</td>\n",
       "      <td>0.0</td>\n",
       "      <td>0.0</td>\n",
       "      <td>0.0</td>\n",
       "      <td>0.0</td>\n",
       "      <td>0.0</td>\n",
       "      <td>0.0</td>\n",
       "      <td>0.0</td>\n",
       "      <td>0.203797</td>\n",
       "      <td>0.0</td>\n",
       "    </tr>\n",
       "    <tr>\n",
       "      <th>6</th>\n",
       "      <td>0.000000</td>\n",
       "      <td>0.000000</td>\n",
       "      <td>0.0</td>\n",
       "      <td>0.0</td>\n",
       "      <td>0.0</td>\n",
       "      <td>0.0</td>\n",
       "      <td>0.0</td>\n",
       "      <td>0.0</td>\n",
       "      <td>0.0</td>\n",
       "      <td>0.0</td>\n",
       "      <td>...</td>\n",
       "      <td>0.027455</td>\n",
       "      <td>0.0</td>\n",
       "      <td>0.0</td>\n",
       "      <td>0.0</td>\n",
       "      <td>0.0</td>\n",
       "      <td>0.0</td>\n",
       "      <td>0.0</td>\n",
       "      <td>0.0</td>\n",
       "      <td>0.000000</td>\n",
       "      <td>0.0</td>\n",
       "    </tr>\n",
       "  </tbody>\n",
       "</table>\n",
       "<p>5 rows × 4000 columns</p>\n",
       "</div>"
      ],
      "text/plain": [
       "        000        10  100   11   12   13   14   15   16   17  ...     young  \\\n",
       "0  0.000000  0.000000  0.0  0.0  0.0  0.0  0.0  0.0  0.0  0.0  ...  0.023571   \n",
       "1  0.000000  0.000000  0.0  0.0  0.0  0.0  0.0  0.0  0.0  0.0  ...  0.017909   \n",
       "2  0.000000  0.000000  0.0  0.0  0.0  0.0  0.0  0.0  0.0  0.0  ...  0.011729   \n",
       "4  0.032637  0.033548  0.0  0.0  0.0  0.0  0.0  0.0  0.0  0.0  ...  0.017243   \n",
       "6  0.000000  0.000000  0.0  0.0  0.0  0.0  0.0  0.0  0.0  0.0  ...  0.027455   \n",
       "\n",
       "   younger  youngest  your  youth  yuuzhan  zero  zoey      zone  zoo  \n",
       "0      0.0       0.0   0.0    0.0      0.0   0.0   0.0  0.000000  0.0  \n",
       "1      0.0       0.0   0.0    0.0      0.0   0.0   0.0  0.000000  0.0  \n",
       "2      0.0       0.0   0.0    0.0      0.0   0.0   0.0  0.000000  0.0  \n",
       "4      0.0       0.0   0.0    0.0      0.0   0.0   0.0  0.203797  0.0  \n",
       "6      0.0       0.0   0.0    0.0      0.0   0.0   0.0  0.000000  0.0  \n",
       "\n",
       "[5 rows x 4000 columns]"
      ]
     },
     "execution_count": 9,
     "metadata": {},
     "output_type": "execute_result"
    }
   ],
   "source": [
    "summ=pd.DataFrame(X, columns=labels, index=genre_books.index)\n",
    "summ.head()"
   ]
  },
  {
   "cell_type": "markdown",
   "metadata": {},
   "source": [
    "## Label Encoding for Genres"
   ]
  },
  {
   "cell_type": "markdown",
   "metadata": {},
   "source": [
    "First, joining the summary to genre_books."
   ]
  },
  {
   "cell_type": "code",
   "execution_count": 10,
   "metadata": {},
   "outputs": [],
   "source": [
    "genre_books1=genre_books.drop(['title', 'author', 'date'], axis=1).copy()\n",
    "genre_books1=genre_books1.join(summ)"
   ]
  },
  {
   "cell_type": "code",
   "execution_count": 11,
   "metadata": {},
   "outputs": [
    {
     "data": {
      "text/html": [
       "<div>\n",
       "<style scoped>\n",
       "    .dataframe tbody tr th:only-of-type {\n",
       "        vertical-align: middle;\n",
       "    }\n",
       "\n",
       "    .dataframe tbody tr th {\n",
       "        vertical-align: top;\n",
       "    }\n",
       "\n",
       "    .dataframe thead th {\n",
       "        text-align: right;\n",
       "    }\n",
       "</style>\n",
       "<table border=\"1\" class=\"dataframe\">\n",
       "  <thead>\n",
       "    <tr style=\"text-align: right;\">\n",
       "      <th></th>\n",
       "      <th>summary</th>\n",
       "      <th>genre</th>\n",
       "      <th>000</th>\n",
       "      <th>10</th>\n",
       "      <th>100</th>\n",
       "      <th>11</th>\n",
       "      <th>12</th>\n",
       "      <th>13</th>\n",
       "      <th>14</th>\n",
       "      <th>15</th>\n",
       "      <th>...</th>\n",
       "      <th>young</th>\n",
       "      <th>younger</th>\n",
       "      <th>youngest</th>\n",
       "      <th>your</th>\n",
       "      <th>youth</th>\n",
       "      <th>yuuzhan</th>\n",
       "      <th>zero</th>\n",
       "      <th>zoey</th>\n",
       "      <th>zone</th>\n",
       "      <th>zoo</th>\n",
       "    </tr>\n",
       "  </thead>\n",
       "  <tbody>\n",
       "    <tr>\n",
       "      <th>0</th>\n",
       "      <td>Old Major, the old boar on the Manor Farm, ca...</td>\n",
       "      <td>Children's literature</td>\n",
       "      <td>0.000000</td>\n",
       "      <td>0.000000</td>\n",
       "      <td>0.0</td>\n",
       "      <td>0.0</td>\n",
       "      <td>0.0</td>\n",
       "      <td>0.0</td>\n",
       "      <td>0.0</td>\n",
       "      <td>0.0</td>\n",
       "      <td>...</td>\n",
       "      <td>0.023571</td>\n",
       "      <td>0.0</td>\n",
       "      <td>0.0</td>\n",
       "      <td>0.0</td>\n",
       "      <td>0.0</td>\n",
       "      <td>0.0</td>\n",
       "      <td>0.0</td>\n",
       "      <td>0.0</td>\n",
       "      <td>0.000000</td>\n",
       "      <td>0.0</td>\n",
       "    </tr>\n",
       "    <tr>\n",
       "      <th>1</th>\n",
       "      <td>Alex, a teenager living in near-future Englan...</td>\n",
       "      <td>Novel</td>\n",
       "      <td>0.000000</td>\n",
       "      <td>0.000000</td>\n",
       "      <td>0.0</td>\n",
       "      <td>0.0</td>\n",
       "      <td>0.0</td>\n",
       "      <td>0.0</td>\n",
       "      <td>0.0</td>\n",
       "      <td>0.0</td>\n",
       "      <td>...</td>\n",
       "      <td>0.017909</td>\n",
       "      <td>0.0</td>\n",
       "      <td>0.0</td>\n",
       "      <td>0.0</td>\n",
       "      <td>0.0</td>\n",
       "      <td>0.0</td>\n",
       "      <td>0.0</td>\n",
       "      <td>0.0</td>\n",
       "      <td>0.000000</td>\n",
       "      <td>0.0</td>\n",
       "    </tr>\n",
       "    <tr>\n",
       "      <th>2</th>\n",
       "      <td>The text of The Plague is divided into five p...</td>\n",
       "      <td>Novel</td>\n",
       "      <td>0.000000</td>\n",
       "      <td>0.000000</td>\n",
       "      <td>0.0</td>\n",
       "      <td>0.0</td>\n",
       "      <td>0.0</td>\n",
       "      <td>0.0</td>\n",
       "      <td>0.0</td>\n",
       "      <td>0.0</td>\n",
       "      <td>...</td>\n",
       "      <td>0.011729</td>\n",
       "      <td>0.0</td>\n",
       "      <td>0.0</td>\n",
       "      <td>0.0</td>\n",
       "      <td>0.0</td>\n",
       "      <td>0.0</td>\n",
       "      <td>0.0</td>\n",
       "      <td>0.0</td>\n",
       "      <td>0.000000</td>\n",
       "      <td>0.0</td>\n",
       "    </tr>\n",
       "    <tr>\n",
       "      <th>4</th>\n",
       "      <td>The novel posits that space around the Milky ...</td>\n",
       "      <td>Fantasy</td>\n",
       "      <td>0.032637</td>\n",
       "      <td>0.033548</td>\n",
       "      <td>0.0</td>\n",
       "      <td>0.0</td>\n",
       "      <td>0.0</td>\n",
       "      <td>0.0</td>\n",
       "      <td>0.0</td>\n",
       "      <td>0.0</td>\n",
       "      <td>...</td>\n",
       "      <td>0.017243</td>\n",
       "      <td>0.0</td>\n",
       "      <td>0.0</td>\n",
       "      <td>0.0</td>\n",
       "      <td>0.0</td>\n",
       "      <td>0.0</td>\n",
       "      <td>0.0</td>\n",
       "      <td>0.0</td>\n",
       "      <td>0.203797</td>\n",
       "      <td>0.0</td>\n",
       "    </tr>\n",
       "    <tr>\n",
       "      <th>6</th>\n",
       "      <td>Ged is a young boy on Gont, one of the larger...</td>\n",
       "      <td>Fantasy</td>\n",
       "      <td>0.000000</td>\n",
       "      <td>0.000000</td>\n",
       "      <td>0.0</td>\n",
       "      <td>0.0</td>\n",
       "      <td>0.0</td>\n",
       "      <td>0.0</td>\n",
       "      <td>0.0</td>\n",
       "      <td>0.0</td>\n",
       "      <td>...</td>\n",
       "      <td>0.027455</td>\n",
       "      <td>0.0</td>\n",
       "      <td>0.0</td>\n",
       "      <td>0.0</td>\n",
       "      <td>0.0</td>\n",
       "      <td>0.0</td>\n",
       "      <td>0.0</td>\n",
       "      <td>0.0</td>\n",
       "      <td>0.000000</td>\n",
       "      <td>0.0</td>\n",
       "    </tr>\n",
       "  </tbody>\n",
       "</table>\n",
       "<p>5 rows × 4002 columns</p>\n",
       "</div>"
      ],
      "text/plain": [
       "                                             summary                  genre  \\\n",
       "0   Old Major, the old boar on the Manor Farm, ca...  Children's literature   \n",
       "1   Alex, a teenager living in near-future Englan...                  Novel   \n",
       "2   The text of The Plague is divided into five p...                  Novel   \n",
       "4   The novel posits that space around the Milky ...                Fantasy   \n",
       "6   Ged is a young boy on Gont, one of the larger...                Fantasy   \n",
       "\n",
       "        000        10  100   11   12   13   14   15  ...     young  younger  \\\n",
       "0  0.000000  0.000000  0.0  0.0  0.0  0.0  0.0  0.0  ...  0.023571      0.0   \n",
       "1  0.000000  0.000000  0.0  0.0  0.0  0.0  0.0  0.0  ...  0.017909      0.0   \n",
       "2  0.000000  0.000000  0.0  0.0  0.0  0.0  0.0  0.0  ...  0.011729      0.0   \n",
       "4  0.032637  0.033548  0.0  0.0  0.0  0.0  0.0  0.0  ...  0.017243      0.0   \n",
       "6  0.000000  0.000000  0.0  0.0  0.0  0.0  0.0  0.0  ...  0.027455      0.0   \n",
       "\n",
       "   youngest  your  youth  yuuzhan  zero  zoey      zone  zoo  \n",
       "0       0.0   0.0    0.0      0.0   0.0   0.0  0.000000  0.0  \n",
       "1       0.0   0.0    0.0      0.0   0.0   0.0  0.000000  0.0  \n",
       "2       0.0   0.0    0.0      0.0   0.0   0.0  0.000000  0.0  \n",
       "4       0.0   0.0    0.0      0.0   0.0   0.0  0.203797  0.0  \n",
       "6       0.0   0.0    0.0      0.0   0.0   0.0  0.000000  0.0  \n",
       "\n",
       "[5 rows x 4002 columns]"
      ]
     },
     "execution_count": 11,
     "metadata": {},
     "output_type": "execute_result"
    }
   ],
   "source": [
    "genre_books1.head()"
   ]
  },
  {
   "cell_type": "markdown",
   "metadata": {},
   "source": [
    "Next, label encoding the genres so it became numerical."
   ]
  },
  {
   "cell_type": "code",
   "execution_count": 12,
   "metadata": {},
   "outputs": [
    {
     "data": {
      "text/html": [
       "<div>\n",
       "<style scoped>\n",
       "    .dataframe tbody tr th:only-of-type {\n",
       "        vertical-align: middle;\n",
       "    }\n",
       "\n",
       "    .dataframe tbody tr th {\n",
       "        vertical-align: top;\n",
       "    }\n",
       "\n",
       "    .dataframe thead th {\n",
       "        text-align: right;\n",
       "    }\n",
       "</style>\n",
       "<table border=\"1\" class=\"dataframe\">\n",
       "  <thead>\n",
       "    <tr style=\"text-align: right;\">\n",
       "      <th></th>\n",
       "      <th>genre_code</th>\n",
       "    </tr>\n",
       "  </thead>\n",
       "  <tbody>\n",
       "    <tr>\n",
       "      <th>0</th>\n",
       "      <td>0</td>\n",
       "    </tr>\n",
       "    <tr>\n",
       "      <th>1</th>\n",
       "      <td>3</td>\n",
       "    </tr>\n",
       "    <tr>\n",
       "      <th>2</th>\n",
       "      <td>3</td>\n",
       "    </tr>\n",
       "    <tr>\n",
       "      <th>4</th>\n",
       "      <td>1</td>\n",
       "    </tr>\n",
       "    <tr>\n",
       "      <th>6</th>\n",
       "      <td>1</td>\n",
       "    </tr>\n",
       "  </tbody>\n",
       "</table>\n",
       "</div>"
      ],
      "text/plain": [
       "   genre_code\n",
       "0           0\n",
       "1           3\n",
       "2           3\n",
       "4           1\n",
       "6           1"
      ]
     },
     "execution_count": 12,
     "metadata": {},
     "output_type": "execute_result"
    }
   ],
   "source": [
    "le_genres=LabelEncoder()\n",
    "genres_df=genre_books1['genre']\n",
    "genres_df=le_genres.fit_transform(genres_df)\n",
    "genres_df=pd.DataFrame(genres_df, columns=['genre_code'], index=genre_books1.index)\n",
    "genres_df.head()"
   ]
  },
  {
   "cell_type": "code",
   "execution_count": 13,
   "metadata": {},
   "outputs": [
    {
     "data": {
      "text/html": [
       "<div>\n",
       "<style scoped>\n",
       "    .dataframe tbody tr th:only-of-type {\n",
       "        vertical-align: middle;\n",
       "    }\n",
       "\n",
       "    .dataframe tbody tr th {\n",
       "        vertical-align: top;\n",
       "    }\n",
       "\n",
       "    .dataframe thead th {\n",
       "        text-align: right;\n",
       "    }\n",
       "</style>\n",
       "<table border=\"1\" class=\"dataframe\">\n",
       "  <thead>\n",
       "    <tr style=\"text-align: right;\">\n",
       "      <th></th>\n",
       "      <th>summary</th>\n",
       "      <th>genre</th>\n",
       "      <th>000</th>\n",
       "      <th>10</th>\n",
       "      <th>100</th>\n",
       "      <th>11</th>\n",
       "      <th>12</th>\n",
       "      <th>13</th>\n",
       "      <th>14</th>\n",
       "      <th>15</th>\n",
       "      <th>...</th>\n",
       "      <th>younger</th>\n",
       "      <th>youngest</th>\n",
       "      <th>your</th>\n",
       "      <th>youth</th>\n",
       "      <th>yuuzhan</th>\n",
       "      <th>zero</th>\n",
       "      <th>zoey</th>\n",
       "      <th>zone</th>\n",
       "      <th>zoo</th>\n",
       "      <th>genre_code</th>\n",
       "    </tr>\n",
       "  </thead>\n",
       "  <tbody>\n",
       "    <tr>\n",
       "      <th>0</th>\n",
       "      <td>Old Major, the old boar on the Manor Farm, ca...</td>\n",
       "      <td>Children's literature</td>\n",
       "      <td>0.000000</td>\n",
       "      <td>0.000000</td>\n",
       "      <td>0.0</td>\n",
       "      <td>0.0</td>\n",
       "      <td>0.0</td>\n",
       "      <td>0.0</td>\n",
       "      <td>0.0</td>\n",
       "      <td>0.0</td>\n",
       "      <td>...</td>\n",
       "      <td>0.0</td>\n",
       "      <td>0.0</td>\n",
       "      <td>0.0</td>\n",
       "      <td>0.0</td>\n",
       "      <td>0.0</td>\n",
       "      <td>0.0</td>\n",
       "      <td>0.0</td>\n",
       "      <td>0.000000</td>\n",
       "      <td>0.0</td>\n",
       "      <td>0</td>\n",
       "    </tr>\n",
       "    <tr>\n",
       "      <th>1</th>\n",
       "      <td>Alex, a teenager living in near-future Englan...</td>\n",
       "      <td>Novel</td>\n",
       "      <td>0.000000</td>\n",
       "      <td>0.000000</td>\n",
       "      <td>0.0</td>\n",
       "      <td>0.0</td>\n",
       "      <td>0.0</td>\n",
       "      <td>0.0</td>\n",
       "      <td>0.0</td>\n",
       "      <td>0.0</td>\n",
       "      <td>...</td>\n",
       "      <td>0.0</td>\n",
       "      <td>0.0</td>\n",
       "      <td>0.0</td>\n",
       "      <td>0.0</td>\n",
       "      <td>0.0</td>\n",
       "      <td>0.0</td>\n",
       "      <td>0.0</td>\n",
       "      <td>0.000000</td>\n",
       "      <td>0.0</td>\n",
       "      <td>3</td>\n",
       "    </tr>\n",
       "    <tr>\n",
       "      <th>2</th>\n",
       "      <td>The text of The Plague is divided into five p...</td>\n",
       "      <td>Novel</td>\n",
       "      <td>0.000000</td>\n",
       "      <td>0.000000</td>\n",
       "      <td>0.0</td>\n",
       "      <td>0.0</td>\n",
       "      <td>0.0</td>\n",
       "      <td>0.0</td>\n",
       "      <td>0.0</td>\n",
       "      <td>0.0</td>\n",
       "      <td>...</td>\n",
       "      <td>0.0</td>\n",
       "      <td>0.0</td>\n",
       "      <td>0.0</td>\n",
       "      <td>0.0</td>\n",
       "      <td>0.0</td>\n",
       "      <td>0.0</td>\n",
       "      <td>0.0</td>\n",
       "      <td>0.000000</td>\n",
       "      <td>0.0</td>\n",
       "      <td>3</td>\n",
       "    </tr>\n",
       "    <tr>\n",
       "      <th>4</th>\n",
       "      <td>The novel posits that space around the Milky ...</td>\n",
       "      <td>Fantasy</td>\n",
       "      <td>0.032637</td>\n",
       "      <td>0.033548</td>\n",
       "      <td>0.0</td>\n",
       "      <td>0.0</td>\n",
       "      <td>0.0</td>\n",
       "      <td>0.0</td>\n",
       "      <td>0.0</td>\n",
       "      <td>0.0</td>\n",
       "      <td>...</td>\n",
       "      <td>0.0</td>\n",
       "      <td>0.0</td>\n",
       "      <td>0.0</td>\n",
       "      <td>0.0</td>\n",
       "      <td>0.0</td>\n",
       "      <td>0.0</td>\n",
       "      <td>0.0</td>\n",
       "      <td>0.203797</td>\n",
       "      <td>0.0</td>\n",
       "      <td>1</td>\n",
       "    </tr>\n",
       "    <tr>\n",
       "      <th>6</th>\n",
       "      <td>Ged is a young boy on Gont, one of the larger...</td>\n",
       "      <td>Fantasy</td>\n",
       "      <td>0.000000</td>\n",
       "      <td>0.000000</td>\n",
       "      <td>0.0</td>\n",
       "      <td>0.0</td>\n",
       "      <td>0.0</td>\n",
       "      <td>0.0</td>\n",
       "      <td>0.0</td>\n",
       "      <td>0.0</td>\n",
       "      <td>...</td>\n",
       "      <td>0.0</td>\n",
       "      <td>0.0</td>\n",
       "      <td>0.0</td>\n",
       "      <td>0.0</td>\n",
       "      <td>0.0</td>\n",
       "      <td>0.0</td>\n",
       "      <td>0.0</td>\n",
       "      <td>0.000000</td>\n",
       "      <td>0.0</td>\n",
       "      <td>1</td>\n",
       "    </tr>\n",
       "  </tbody>\n",
       "</table>\n",
       "<p>5 rows × 4003 columns</p>\n",
       "</div>"
      ],
      "text/plain": [
       "                                             summary                  genre  \\\n",
       "0   Old Major, the old boar on the Manor Farm, ca...  Children's literature   \n",
       "1   Alex, a teenager living in near-future Englan...                  Novel   \n",
       "2   The text of The Plague is divided into five p...                  Novel   \n",
       "4   The novel posits that space around the Milky ...                Fantasy   \n",
       "6   Ged is a young boy on Gont, one of the larger...                Fantasy   \n",
       "\n",
       "        000        10  100   11   12   13   14   15  ...  younger  youngest  \\\n",
       "0  0.000000  0.000000  0.0  0.0  0.0  0.0  0.0  0.0  ...      0.0       0.0   \n",
       "1  0.000000  0.000000  0.0  0.0  0.0  0.0  0.0  0.0  ...      0.0       0.0   \n",
       "2  0.000000  0.000000  0.0  0.0  0.0  0.0  0.0  0.0  ...      0.0       0.0   \n",
       "4  0.032637  0.033548  0.0  0.0  0.0  0.0  0.0  0.0  ...      0.0       0.0   \n",
       "6  0.000000  0.000000  0.0  0.0  0.0  0.0  0.0  0.0  ...      0.0       0.0   \n",
       "\n",
       "   your  youth  yuuzhan  zero  zoey      zone  zoo  genre_code  \n",
       "0   0.0    0.0      0.0   0.0   0.0  0.000000  0.0           0  \n",
       "1   0.0    0.0      0.0   0.0   0.0  0.000000  0.0           3  \n",
       "2   0.0    0.0      0.0   0.0   0.0  0.000000  0.0           3  \n",
       "4   0.0    0.0      0.0   0.0   0.0  0.203797  0.0           1  \n",
       "6   0.0    0.0      0.0   0.0   0.0  0.000000  0.0           1  \n",
       "\n",
       "[5 rows x 4003 columns]"
      ]
     },
     "execution_count": 13,
     "metadata": {},
     "output_type": "execute_result"
    }
   ],
   "source": [
    "genre_books1=genre_books1.join(genres_df)\n",
    "genre_books1.head()"
   ]
  },
  {
   "cell_type": "markdown",
   "metadata": {},
   "source": [
    "## Model Training\n",
    "\n",
    "Then, train two predictive models from the given data set."
   ]
  },
  {
   "cell_type": "code",
   "execution_count": 14,
   "metadata": {},
   "outputs": [
    {
     "name": "stdout",
     "output_type": "stream",
     "text": [
      "(7163, 4003)\n",
      "(1791, 4003)\n"
     ]
    }
   ],
   "source": [
    "train, test = train_test_split(genre_books1, test_size=0.2, random_state=142)\n",
    "print(train.shape)\n",
    "print(test.shape)"
   ]
  },
  {
   "cell_type": "code",
   "execution_count": 15,
   "metadata": {},
   "outputs": [
    {
     "data": {
      "text/html": [
       "<div>\n",
       "<style scoped>\n",
       "    .dataframe tbody tr th:only-of-type {\n",
       "        vertical-align: middle;\n",
       "    }\n",
       "\n",
       "    .dataframe tbody tr th {\n",
       "        vertical-align: top;\n",
       "    }\n",
       "\n",
       "    .dataframe thead th {\n",
       "        text-align: right;\n",
       "    }\n",
       "</style>\n",
       "<table border=\"1\" class=\"dataframe\">\n",
       "  <thead>\n",
       "    <tr style=\"text-align: right;\">\n",
       "      <th></th>\n",
       "      <th>summary</th>\n",
       "      <th>genre</th>\n",
       "      <th>000</th>\n",
       "      <th>10</th>\n",
       "      <th>100</th>\n",
       "      <th>11</th>\n",
       "      <th>12</th>\n",
       "      <th>13</th>\n",
       "      <th>14</th>\n",
       "      <th>15</th>\n",
       "      <th>...</th>\n",
       "      <th>younger</th>\n",
       "      <th>youngest</th>\n",
       "      <th>your</th>\n",
       "      <th>youth</th>\n",
       "      <th>yuuzhan</th>\n",
       "      <th>zero</th>\n",
       "      <th>zoey</th>\n",
       "      <th>zone</th>\n",
       "      <th>zoo</th>\n",
       "      <th>genre_code</th>\n",
       "    </tr>\n",
       "  </thead>\n",
       "  <tbody>\n",
       "    <tr>\n",
       "      <th>16377</th>\n",
       "      <td>While Simon is being reunited with the Heaps,...</td>\n",
       "      <td>Fantasy</td>\n",
       "      <td>0.0</td>\n",
       "      <td>0.0</td>\n",
       "      <td>0.0</td>\n",
       "      <td>0.0</td>\n",
       "      <td>0.0</td>\n",
       "      <td>0.0</td>\n",
       "      <td>0.0</td>\n",
       "      <td>0.0</td>\n",
       "      <td>...</td>\n",
       "      <td>0.0</td>\n",
       "      <td>0.0</td>\n",
       "      <td>0.0</td>\n",
       "      <td>0.0</td>\n",
       "      <td>0.0</td>\n",
       "      <td>0.0</td>\n",
       "      <td>0.0</td>\n",
       "      <td>0.0</td>\n",
       "      <td>0.0</td>\n",
       "      <td>1</td>\n",
       "    </tr>\n",
       "    <tr>\n",
       "      <th>10804</th>\n",
       "      <td>Seven-year-old Anwell lives in a prestigious ...</td>\n",
       "      <td>Mystery</td>\n",
       "      <td>0.0</td>\n",
       "      <td>0.0</td>\n",
       "      <td>0.0</td>\n",
       "      <td>0.0</td>\n",
       "      <td>0.0</td>\n",
       "      <td>0.0</td>\n",
       "      <td>0.0</td>\n",
       "      <td>0.0</td>\n",
       "      <td>...</td>\n",
       "      <td>0.0</td>\n",
       "      <td>0.0</td>\n",
       "      <td>0.0</td>\n",
       "      <td>0.0</td>\n",
       "      <td>0.0</td>\n",
       "      <td>0.0</td>\n",
       "      <td>0.0</td>\n",
       "      <td>0.0</td>\n",
       "      <td>0.0</td>\n",
       "      <td>2</td>\n",
       "    </tr>\n",
       "    <tr>\n",
       "      <th>10415</th>\n",
       "      <td>Sten and Alex are now POWs in a Tahn prison c...</td>\n",
       "      <td>Science Fiction</td>\n",
       "      <td>0.0</td>\n",
       "      <td>0.0</td>\n",
       "      <td>0.0</td>\n",
       "      <td>0.0</td>\n",
       "      <td>0.0</td>\n",
       "      <td>0.0</td>\n",
       "      <td>0.0</td>\n",
       "      <td>0.0</td>\n",
       "      <td>...</td>\n",
       "      <td>0.0</td>\n",
       "      <td>0.0</td>\n",
       "      <td>0.0</td>\n",
       "      <td>0.0</td>\n",
       "      <td>0.0</td>\n",
       "      <td>0.0</td>\n",
       "      <td>0.0</td>\n",
       "      <td>0.0</td>\n",
       "      <td>0.0</td>\n",
       "      <td>4</td>\n",
       "    </tr>\n",
       "    <tr>\n",
       "      <th>15205</th>\n",
       "      <td>In the final adventure set on the Jovian moon...</td>\n",
       "      <td>Fantasy</td>\n",
       "      <td>0.0</td>\n",
       "      <td>0.0</td>\n",
       "      <td>0.0</td>\n",
       "      <td>0.0</td>\n",
       "      <td>0.0</td>\n",
       "      <td>0.0</td>\n",
       "      <td>0.0</td>\n",
       "      <td>0.0</td>\n",
       "      <td>...</td>\n",
       "      <td>0.0</td>\n",
       "      <td>0.0</td>\n",
       "      <td>0.0</td>\n",
       "      <td>0.0</td>\n",
       "      <td>0.0</td>\n",
       "      <td>0.0</td>\n",
       "      <td>0.0</td>\n",
       "      <td>0.0</td>\n",
       "      <td>0.0</td>\n",
       "      <td>1</td>\n",
       "    </tr>\n",
       "    <tr>\n",
       "      <th>15389</th>\n",
       "      <td>Dossouye is a fix-up novel created from the s...</td>\n",
       "      <td>Fantasy</td>\n",
       "      <td>0.0</td>\n",
       "      <td>0.0</td>\n",
       "      <td>0.0</td>\n",
       "      <td>0.0</td>\n",
       "      <td>0.0</td>\n",
       "      <td>0.0</td>\n",
       "      <td>0.0</td>\n",
       "      <td>0.0</td>\n",
       "      <td>...</td>\n",
       "      <td>0.0</td>\n",
       "      <td>0.0</td>\n",
       "      <td>0.0</td>\n",
       "      <td>0.0</td>\n",
       "      <td>0.0</td>\n",
       "      <td>0.0</td>\n",
       "      <td>0.0</td>\n",
       "      <td>0.0</td>\n",
       "      <td>0.0</td>\n",
       "      <td>1</td>\n",
       "    </tr>\n",
       "  </tbody>\n",
       "</table>\n",
       "<p>5 rows × 4003 columns</p>\n",
       "</div>"
      ],
      "text/plain": [
       "                                                 summary            genre  \\\n",
       "16377   While Simon is being reunited with the Heaps,...          Fantasy   \n",
       "10804   Seven-year-old Anwell lives in a prestigious ...          Mystery   \n",
       "10415   Sten and Alex are now POWs in a Tahn prison c...  Science Fiction   \n",
       "15205   In the final adventure set on the Jovian moon...          Fantasy   \n",
       "15389   Dossouye is a fix-up novel created from the s...          Fantasy   \n",
       "\n",
       "       000   10  100   11   12   13   14   15  ...  younger  youngest  your  \\\n",
       "16377  0.0  0.0  0.0  0.0  0.0  0.0  0.0  0.0  ...      0.0       0.0   0.0   \n",
       "10804  0.0  0.0  0.0  0.0  0.0  0.0  0.0  0.0  ...      0.0       0.0   0.0   \n",
       "10415  0.0  0.0  0.0  0.0  0.0  0.0  0.0  0.0  ...      0.0       0.0   0.0   \n",
       "15205  0.0  0.0  0.0  0.0  0.0  0.0  0.0  0.0  ...      0.0       0.0   0.0   \n",
       "15389  0.0  0.0  0.0  0.0  0.0  0.0  0.0  0.0  ...      0.0       0.0   0.0   \n",
       "\n",
       "       youth  yuuzhan  zero  zoey  zone  zoo  genre_code  \n",
       "16377    0.0      0.0   0.0   0.0   0.0  0.0           1  \n",
       "10804    0.0      0.0   0.0   0.0   0.0  0.0           2  \n",
       "10415    0.0      0.0   0.0   0.0   0.0  0.0           4  \n",
       "15205    0.0      0.0   0.0   0.0   0.0  0.0           1  \n",
       "15389    0.0      0.0   0.0   0.0   0.0  0.0           1  \n",
       "\n",
       "[5 rows x 4003 columns]"
      ]
     },
     "execution_count": 15,
     "metadata": {},
     "output_type": "execute_result"
    }
   ],
   "source": [
    "train.head()"
   ]
  },
  {
   "cell_type": "code",
   "execution_count": 16,
   "metadata": {},
   "outputs": [
    {
     "data": {
      "text/html": [
       "<div>\n",
       "<style scoped>\n",
       "    .dataframe tbody tr th:only-of-type {\n",
       "        vertical-align: middle;\n",
       "    }\n",
       "\n",
       "    .dataframe tbody tr th {\n",
       "        vertical-align: top;\n",
       "    }\n",
       "\n",
       "    .dataframe thead th {\n",
       "        text-align: right;\n",
       "    }\n",
       "</style>\n",
       "<table border=\"1\" class=\"dataframe\">\n",
       "  <thead>\n",
       "    <tr style=\"text-align: right;\">\n",
       "      <th></th>\n",
       "      <th>summary</th>\n",
       "      <th>000</th>\n",
       "      <th>10</th>\n",
       "      <th>100</th>\n",
       "      <th>11</th>\n",
       "      <th>12</th>\n",
       "      <th>13</th>\n",
       "      <th>14</th>\n",
       "      <th>15</th>\n",
       "      <th>16</th>\n",
       "      <th>...</th>\n",
       "      <th>younger</th>\n",
       "      <th>youngest</th>\n",
       "      <th>your</th>\n",
       "      <th>youth</th>\n",
       "      <th>yuuzhan</th>\n",
       "      <th>zero</th>\n",
       "      <th>zoey</th>\n",
       "      <th>zone</th>\n",
       "      <th>zoo</th>\n",
       "      <th>genre_code</th>\n",
       "    </tr>\n",
       "    <tr>\n",
       "      <th>genre</th>\n",
       "      <th></th>\n",
       "      <th></th>\n",
       "      <th></th>\n",
       "      <th></th>\n",
       "      <th></th>\n",
       "      <th></th>\n",
       "      <th></th>\n",
       "      <th></th>\n",
       "      <th></th>\n",
       "      <th></th>\n",
       "      <th></th>\n",
       "      <th></th>\n",
       "      <th></th>\n",
       "      <th></th>\n",
       "      <th></th>\n",
       "      <th></th>\n",
       "      <th></th>\n",
       "      <th></th>\n",
       "      <th></th>\n",
       "      <th></th>\n",
       "      <th></th>\n",
       "    </tr>\n",
       "  </thead>\n",
       "  <tbody>\n",
       "    <tr>\n",
       "      <th>Children's literature</th>\n",
       "      <td>237</td>\n",
       "      <td>237</td>\n",
       "      <td>237</td>\n",
       "      <td>237</td>\n",
       "      <td>237</td>\n",
       "      <td>237</td>\n",
       "      <td>237</td>\n",
       "      <td>237</td>\n",
       "      <td>237</td>\n",
       "      <td>237</td>\n",
       "      <td>...</td>\n",
       "      <td>237</td>\n",
       "      <td>237</td>\n",
       "      <td>237</td>\n",
       "      <td>237</td>\n",
       "      <td>237</td>\n",
       "      <td>237</td>\n",
       "      <td>237</td>\n",
       "      <td>237</td>\n",
       "      <td>237</td>\n",
       "      <td>237</td>\n",
       "    </tr>\n",
       "    <tr>\n",
       "      <th>Fantasy</th>\n",
       "      <td>453</td>\n",
       "      <td>453</td>\n",
       "      <td>453</td>\n",
       "      <td>453</td>\n",
       "      <td>453</td>\n",
       "      <td>453</td>\n",
       "      <td>453</td>\n",
       "      <td>453</td>\n",
       "      <td>453</td>\n",
       "      <td>453</td>\n",
       "      <td>...</td>\n",
       "      <td>453</td>\n",
       "      <td>453</td>\n",
       "      <td>453</td>\n",
       "      <td>453</td>\n",
       "      <td>453</td>\n",
       "      <td>453</td>\n",
       "      <td>453</td>\n",
       "      <td>453</td>\n",
       "      <td>453</td>\n",
       "      <td>453</td>\n",
       "    </tr>\n",
       "    <tr>\n",
       "      <th>Mystery</th>\n",
       "      <td>271</td>\n",
       "      <td>271</td>\n",
       "      <td>271</td>\n",
       "      <td>271</td>\n",
       "      <td>271</td>\n",
       "      <td>271</td>\n",
       "      <td>271</td>\n",
       "      <td>271</td>\n",
       "      <td>271</td>\n",
       "      <td>271</td>\n",
       "      <td>...</td>\n",
       "      <td>271</td>\n",
       "      <td>271</td>\n",
       "      <td>271</td>\n",
       "      <td>271</td>\n",
       "      <td>271</td>\n",
       "      <td>271</td>\n",
       "      <td>271</td>\n",
       "      <td>271</td>\n",
       "      <td>271</td>\n",
       "      <td>271</td>\n",
       "    </tr>\n",
       "    <tr>\n",
       "      <th>Novel</th>\n",
       "      <td>430</td>\n",
       "      <td>430</td>\n",
       "      <td>430</td>\n",
       "      <td>430</td>\n",
       "      <td>430</td>\n",
       "      <td>430</td>\n",
       "      <td>430</td>\n",
       "      <td>430</td>\n",
       "      <td>430</td>\n",
       "      <td>430</td>\n",
       "      <td>...</td>\n",
       "      <td>430</td>\n",
       "      <td>430</td>\n",
       "      <td>430</td>\n",
       "      <td>430</td>\n",
       "      <td>430</td>\n",
       "      <td>430</td>\n",
       "      <td>430</td>\n",
       "      <td>430</td>\n",
       "      <td>430</td>\n",
       "      <td>430</td>\n",
       "    </tr>\n",
       "    <tr>\n",
       "      <th>Science Fiction</th>\n",
       "      <td>400</td>\n",
       "      <td>400</td>\n",
       "      <td>400</td>\n",
       "      <td>400</td>\n",
       "      <td>400</td>\n",
       "      <td>400</td>\n",
       "      <td>400</td>\n",
       "      <td>400</td>\n",
       "      <td>400</td>\n",
       "      <td>400</td>\n",
       "      <td>...</td>\n",
       "      <td>400</td>\n",
       "      <td>400</td>\n",
       "      <td>400</td>\n",
       "      <td>400</td>\n",
       "      <td>400</td>\n",
       "      <td>400</td>\n",
       "      <td>400</td>\n",
       "      <td>400</td>\n",
       "      <td>400</td>\n",
       "      <td>400</td>\n",
       "    </tr>\n",
       "  </tbody>\n",
       "</table>\n",
       "<p>5 rows × 4002 columns</p>\n",
       "</div>"
      ],
      "text/plain": [
       "                       summary  000   10  100   11   12   13   14   15   16  \\\n",
       "genre                                                                         \n",
       "Children's literature      237  237  237  237  237  237  237  237  237  237   \n",
       "Fantasy                    453  453  453  453  453  453  453  453  453  453   \n",
       "Mystery                    271  271  271  271  271  271  271  271  271  271   \n",
       "Novel                      430  430  430  430  430  430  430  430  430  430   \n",
       "Science Fiction            400  400  400  400  400  400  400  400  400  400   \n",
       "\n",
       "                       ...  younger  youngest  your  youth  yuuzhan  zero  \\\n",
       "genre                  ...                                                  \n",
       "Children's literature  ...      237       237   237    237      237   237   \n",
       "Fantasy                ...      453       453   453    453      453   453   \n",
       "Mystery                ...      271       271   271    271      271   271   \n",
       "Novel                  ...      430       430   430    430      430   430   \n",
       "Science Fiction        ...      400       400   400    400      400   400   \n",
       "\n",
       "                       zoey  zone  zoo  genre_code  \n",
       "genre                                               \n",
       "Children's literature   237   237  237         237  \n",
       "Fantasy                 453   453  453         453  \n",
       "Mystery                 271   271  271         271  \n",
       "Novel                   430   430  430         430  \n",
       "Science Fiction         400   400  400         400  \n",
       "\n",
       "[5 rows x 4002 columns]"
      ]
     },
     "execution_count": 16,
     "metadata": {},
     "output_type": "execute_result"
    }
   ],
   "source": [
    "# Checking how many books we have in each genre in test set\n",
    "test.groupby('genre').count()"
   ]
  },
  {
   "cell_type": "code",
   "execution_count": 17,
   "metadata": {
    "scrolled": false
   },
   "outputs": [
    {
     "name": "stdout",
     "output_type": "stream",
     "text": [
      "X_train = (7163, 4000)\n",
      "y_train = (7163,)\n",
      "X_test = (1791, 4000)\n",
      "y_test = (1791,)\n",
      "       000   10  100   11   12   13   14   15   16   17  ...     young  \\\n",
      "16377  0.0  0.0  0.0  0.0  0.0  0.0  0.0  0.0  0.0  0.0  ...  0.000000   \n",
      "10804  0.0  0.0  0.0  0.0  0.0  0.0  0.0  0.0  0.0  0.0  ...  0.071418   \n",
      "10415  0.0  0.0  0.0  0.0  0.0  0.0  0.0  0.0  0.0  0.0  ...  0.000000   \n",
      "15205  0.0  0.0  0.0  0.0  0.0  0.0  0.0  0.0  0.0  0.0  ...  0.000000   \n",
      "15389  0.0  0.0  0.0  0.0  0.0  0.0  0.0  0.0  0.0  0.0  ...  0.052965   \n",
      "\n",
      "       younger  youngest  your  youth  yuuzhan  zero  zoey  zone  zoo  \n",
      "16377      0.0       0.0   0.0    0.0      0.0   0.0   0.0   0.0  0.0  \n",
      "10804      0.0       0.0   0.0    0.0      0.0   0.0   0.0   0.0  0.0  \n",
      "10415      0.0       0.0   0.0    0.0      0.0   0.0   0.0   0.0  0.0  \n",
      "15205      0.0       0.0   0.0    0.0      0.0   0.0   0.0   0.0  0.0  \n",
      "15389      0.0       0.0   0.0    0.0      0.0   0.0   0.0   0.0  0.0  \n",
      "\n",
      "[5 rows x 4000 columns]\n",
      "16377    1\n",
      "10804    2\n",
      "10415    4\n",
      "15205    1\n",
      "15389    1\n",
      "Name: genre_code, dtype: int32\n"
     ]
    }
   ],
   "source": [
    "# Identifying the variables to be use\n",
    "X_train=train.drop(['summary', 'genre',\n",
    "                    'genre_code'], axis=1)\n",
    "y_train=train['genre_code']\n",
    "X_test=test.drop(['summary', 'genre',\n",
    "                    'genre_code'], axis=1)\n",
    "y_test=test['genre_code']\n",
    "\n",
    "print(\"X_train =\",X_train.shape)\n",
    "print(\"y_train =\",y_train.shape)\n",
    "print(\"X_test =\",X_test.shape)\n",
    "print(\"y_test =\",y_test.shape)\n",
    "\n",
    "print(X_train.head())\n",
    "print(y_train.head())"
   ]
  },
  {
   "cell_type": "markdown",
   "metadata": {},
   "source": [
    "### Logistic Regression"
   ]
  },
  {
   "cell_type": "code",
   "execution_count": 18,
   "metadata": {},
   "outputs": [
    {
     "data": {
      "text/plain": [
       "LogisticRegression(C=1.0, class_weight=None, dual=False, fit_intercept=True,\n",
       "          intercept_scaling=1, max_iter=100, multi_class='warn',\n",
       "          n_jobs=None, penalty='l2', random_state=None, solver='lbfgs',\n",
       "          tol=0.0001, verbose=0, warm_start=False)"
      ]
     },
     "execution_count": 18,
     "metadata": {},
     "output_type": "execute_result"
    }
   ],
   "source": [
    "# Create and training logistic model\n",
    "model = LogisticRegression(solver='lbfgs')\n",
    "model.fit(X_train, y_train)"
   ]
  },
  {
   "cell_type": "code",
   "execution_count": 19,
   "metadata": {},
   "outputs": [
    {
     "data": {
      "text/plain": [
       "array([1, 3, 3, ..., 2, 1, 0])"
      ]
     },
     "execution_count": 19,
     "metadata": {},
     "output_type": "execute_result"
    }
   ],
   "source": [
    "# Use the model to predict testing data\n",
    "y_predLR = model.predict(X_test)\n",
    "accuracyLR = accuracy_score(y_test, y_predLR)\n",
    "y_predLR"
   ]
  },
  {
   "cell_type": "markdown",
   "metadata": {},
   "source": [
    "### K-Nearest Neighbours Classifiers"
   ]
  },
  {
   "cell_type": "code",
   "execution_count": 20,
   "metadata": {},
   "outputs": [
    {
     "data": {
      "text/plain": [
       "KNeighborsClassifier(algorithm='auto', leaf_size=30, metric='minkowski',\n",
       "           metric_params=None, n_jobs=None, n_neighbors=10, p=2,\n",
       "           weights='uniform')"
      ]
     },
     "execution_count": 20,
     "metadata": {},
     "output_type": "execute_result"
    }
   ],
   "source": [
    "# Create and training K-Nearest Neighbours model\n",
    "clfKN = KNeighborsClassifier(n_neighbors = 10)\n",
    "clfKN.fit(X_train, y_train)"
   ]
  },
  {
   "cell_type": "code",
   "execution_count": 21,
   "metadata": {},
   "outputs": [
    {
     "data": {
      "text/plain": [
       "array([1, 1, 1, ..., 1, 1, 1])"
      ]
     },
     "execution_count": 21,
     "metadata": {},
     "output_type": "execute_result"
    }
   ],
   "source": [
    "# Use the model to predict testing data\n",
    "y_predKN = clfKN.predict(X_test)\n",
    "accuracyKN = accuracy_score(y_predKN, y_test)\n",
    "y_predKN"
   ]
  },
  {
   "cell_type": "markdown",
   "metadata": {},
   "source": [
    "### Gaussian Naive Bayes"
   ]
  },
  {
   "cell_type": "code",
   "execution_count": 22,
   "metadata": {},
   "outputs": [
    {
     "data": {
      "text/plain": [
       "GaussianNB(priors=None, var_smoothing=1e-09)"
      ]
     },
     "execution_count": 22,
     "metadata": {},
     "output_type": "execute_result"
    }
   ],
   "source": [
    "# Create and training a Gaussian Naive Bayes classifier model\n",
    "clfNB = GaussianNB()\n",
    "clfNB.fit(X_train, y_train)"
   ]
  },
  {
   "cell_type": "code",
   "execution_count": 23,
   "metadata": {},
   "outputs": [],
   "source": [
    "# Use the model to predict testing data\n",
    "y_predNB = clfNB.predict(X_test)\n",
    "accuracyNB = accuracy_score(y_predNB, y_test)"
   ]
  },
  {
   "cell_type": "markdown",
   "metadata": {},
   "source": [
    "### Random Forest Classifier"
   ]
  },
  {
   "cell_type": "code",
   "execution_count": 25,
   "metadata": {},
   "outputs": [
    {
     "data": {
      "text/plain": [
       "RandomForestClassifier(bootstrap=True, class_weight=None, criterion='gini',\n",
       "            max_depth=None, max_features='auto', max_leaf_nodes=None,\n",
       "            min_impurity_decrease=0.0, min_impurity_split=None,\n",
       "            min_samples_leaf=1, min_samples_split=2,\n",
       "            min_weight_fraction_leaf=0.0, n_estimators=100, n_jobs=None,\n",
       "            oob_score=False, random_state=None, verbose=0,\n",
       "            warm_start=False)"
      ]
     },
     "execution_count": 25,
     "metadata": {},
     "output_type": "execute_result"
    }
   ],
   "source": [
    "clfRF=RandomForestClassifier(n_estimators=100)\n",
    "clfRF.fit(X_train, y_train)"
   ]
  },
  {
   "cell_type": "code",
   "execution_count": 26,
   "metadata": {},
   "outputs": [],
   "source": [
    "y_predRF=clfRF.predict(X_test)\n",
    "accuracyRF = accuracy_score(y_predRF, y_test)"
   ]
  },
  {
   "cell_type": "markdown",
   "metadata": {},
   "source": [
    "## Model Evaluation\n",
    "\n",
    "Finally, evaluate and compare the learned predictive models."
   ]
  },
  {
   "cell_type": "markdown",
   "metadata": {},
   "source": [
    "### Comparing accuracy of each model by boxplots"
   ]
  },
  {
   "cell_type": "code",
   "execution_count": 36,
   "metadata": {},
   "outputs": [],
   "source": [
    "# Reference:https://pythondata.com/comparing-machine-learning-methods/\n",
    "models=[]\n",
    "models.append(('LR', LogisticRegression()))\n",
    "models.append(('KNN', KNeighborsClassifier()))\n",
    "models.append(('NB', GaussianNB()))\n",
    "models.append(('RF', RandomForestClassifier()))"
   ]
  },
  {
   "cell_type": "code",
   "execution_count": 37,
   "metadata": {},
   "outputs": [
    {
     "name": "stdout",
     "output_type": "stream",
     "text": [
      "LR: 0.686442 (0.006737)\n",
      "KNN: 0.371631 (0.013363)\n",
      "NB: 0.555770 (0.016374)\n",
      "RF: 0.531057 (0.013495)\n"
     ]
    }
   ],
   "source": [
    "from sklearn import model_selection\n",
    "results=[]\n",
    "names=[]\n",
    "for name, model in models:\n",
    "    kfold = model_selection.KFold(n_splits=10, random_state=12)\n",
    "    cv_results = model_selection.cross_val_score(model, X_train, y_train, cv=kfold, scoring='accuracy')\n",
    "    results.append(cv_results)\n",
    "    names.append(name)\n",
    "    msg = \"%s: %f (%f)\" % (name, cv_results.mean(), cv_results.std())\n",
    "    print(msg)"
   ]
  },
  {
   "cell_type": "code",
   "execution_count": 40,
   "metadata": {},
   "outputs": [
    {
     "data": {
      "image/png": "[encoded data removed]",
      "text/plain": [
       "<Figure size 432x288 with 1 Axes>"
      ]
     },
     "metadata": {
      "needs_background": "light"
     },
     "output_type": "display_data"
    }
   ],
   "source": [
    "fig = plt.figure(figsize=(6,4))\n",
    "fig.suptitle('Algorithm Comparison')\n",
    "ax = fig.add_subplot(111)\n",
    "plt.boxplot(results)\n",
    "ax.set_xticklabels(names)\n",
    "ax.set_ylabel('Accuracy score')\n",
    "plt.show()"
   ]
  },
  {
   "cell_type": "markdown",
   "metadata": {},
   "source": [
    "Logistic regression, gaussian naive bayes and random forest in boxplot above have the higher accuracy than k-nearest neighbours. So working on Logistic regression, gaussian naive bayes and random forest here is more efficient, but we are going to evaluate k-nearest neighbours to see the performance."
   ]
  },
  {
   "cell_type": "markdown",
   "metadata": {},
   "source": [
    "### Accuracy score on test set in each models"
   ]
  },
  {
   "cell_type": "code",
   "execution_count": 41,
   "metadata": {},
   "outputs": [
    {
     "name": "stdout",
     "output_type": "stream",
     "text": [
      "Testing accuracy on logistic regression model is: 0.6862\n",
      "Testing accuracy on k-nearest neighbours model is: 0.3657\n",
      "Testing accuracy on gaussian naive bayes model is: 0.5667\n",
      "Testing accuracy on random forest classifier model is: 0.6253\n"
     ]
    }
   ],
   "source": [
    "print('Testing accuracy on logistic regression model is: %.4f' % accuracyLR)\n",
    "print('Testing accuracy on k-nearest neighbours model is: %.4f' % accuracyKN)\n",
    "print('Testing accuracy on gaussian naive bayes model is: %.4f' % accuracyNB)\n",
    "print('Testing accuracy on random forest classifier model is: %.4f' % accuracyRF)"
   ]
  },
  {
   "cell_type": "markdown",
   "metadata": {},
   "source": [
    "As can be seen above, accuracy score on logistic regression model is the highest among the four models followed by random forest classifier, gaussian naive bayes and k-nearest neighbours model. Logistic regression in this case is more accurate than the other models, though random forest classifier also accurate enough. In this case k-nearest neighbours is the less accurate model, but we will look more further on confusion matrix and metrics evaluation below."
   ]
  },
  {
   "cell_type": "markdown",
   "metadata": {},
   "source": [
    "### Confusion matrix on test set in each models using heatmap"
   ]
  },
  {
   "cell_type": "code",
   "execution_count": 42,
   "metadata": {
    "scrolled": true
   },
   "outputs": [],
   "source": [
    "# confusion matrix for each model\n",
    "cm1=confusion_matrix(y_test, y_predLR)\n",
    "cm2=confusion_matrix(y_test, y_predKN)\n",
    "cm3=confusion_matrix(y_test, y_predNB)\n",
    "cm4=confusion_matrix(y_test, y_predRF)"
   ]
  },
  {
   "cell_type": "code",
   "execution_count": 43,
   "metadata": {},
   "outputs": [],
   "source": [
    "# for annotation\n",
    "group_counts = [\"{0:0.0f}\".format(value) for value in\n",
    "                cm1.flatten()]\n",
    "group_percentages = [\"{0:.2%}\".format(value) for value in\n",
    "                     cm1.flatten()/np.sum(cm1)]\n",
    "labels1 = [f\"{v2}\\n{v3}\" for v2, v3 in\n",
    "          zip(group_counts,group_percentages)]\n",
    "labels1 = np.asarray(labels1).reshape(5,5)"
   ]
  },
  {
   "cell_type": "code",
   "execution_count": 44,
   "metadata": {},
   "outputs": [
    {
     "data": {
      "text/plain": [
       "Text(0.5, 51.0, 'Predicted class')"
      ]
     },
     "execution_count": 44,
     "metadata": {},
     "output_type": "execute_result"
    },
    {
     "data": {
      "image/png": "[encoded data removed]",
      "text/plain": [
       "<Figure size 864x576 with 1 Axes>"
      ]
     },
     "metadata": {
      "needs_background": "light"
     },
     "output_type": "display_data"
    }
   ],
   "source": [
    "import seaborn as sns\n",
    "plt.figure(figsize=(12,8))\n",
    "ax = sns.heatmap(cm1, annot=labels1, fmt='', cmap='binary', annot_kws={'size':16}, cbar=False)\n",
    "ax.set_xticklabels([\"Children's literature\",\n",
    "                 'Fantasy',\n",
    "                 'Mystery',\n",
    "                 'Novel',\n",
    "                 'Sci-Fi'], fontsize=12)\n",
    "ax.set_yticklabels([\"Children's literature\",\n",
    "                 'Fantasy',\n",
    "                 'Mystery',\n",
    "                 'Novel',\n",
    "                 'Sci-Fi'], rotation='horizontal', fontsize=12)\n",
    "ax.set_title(\"Logistic regression model's confusion Matrix (%)\", fontsize=18, pad=20)\n",
    "ax.set_ylabel('True class', fontsize=14, labelpad=10)\n",
    "ax.set_xlabel('Predicted class', fontsize=14, labelpad=20)"
   ]
  },
  {
   "cell_type": "markdown",
   "metadata": {},
   "source": [
    "As for logistic regression, the proportion of false positives and false negatives are low which are good, it means that misclassified class are very low. If we take Children's literature to evaluate, there are 7.37% of false positives and 2.79% of false negatives which are very low. As for the true positives, they are quite high which are good because it means that the model successfully predicted each class. "
   ]
  },
  {
   "cell_type": "code",
   "execution_count": 45,
   "metadata": {},
   "outputs": [],
   "source": [
    "# for annotation\n",
    "group_counts = [\"{0:0.0f}\".format(value) for value in\n",
    "                cm2.flatten()]\n",
    "group_percentages = [\"{0:.2%}\".format(value) for value in\n",
    "                     cm2.flatten()/np.sum(cm2)]\n",
    "labels2 = [f\"{v2}\\n{v3}\" for v2, v3 in\n",
    "          zip(group_counts,group_percentages)]\n",
    "labels2 = np.asarray(labels2).reshape(5,5)"
   ]
  },
  {
   "cell_type": "code",
   "execution_count": 47,
   "metadata": {},
   "outputs": [
    {
     "data": {
      "text/plain": [
       "Text(0.5, 51.0, 'Predicted class')"
      ]
     },
     "execution_count": 47,
     "metadata": {},
     "output_type": "execute_result"
    },
    {
     "data": {
      "image/png": "[encoded data removed]",
      "text/plain": [
       "<Figure size 864x576 with 1 Axes>"
      ]
     },
     "metadata": {
      "needs_background": "light"
     },
     "output_type": "display_data"
    }
   ],
   "source": [
    "import seaborn as sns\n",
    "plt.figure(figsize=(12,8))\n",
    "ax = sns.heatmap(cm2, annot=labels2, fmt='', cmap='binary', annot_kws={'size':16}, cbar=False)\n",
    "ax.set_xticklabels([\"Children's literature\",\n",
    "                 'Fantasy',\n",
    "                 'Mystery',\n",
    "                 'Novel',\n",
    "                 'Sci-Fi'], fontsize=12)\n",
    "ax.set_yticklabels([\"Children's literature\",\n",
    "                 'Fantasy',\n",
    "                 'Mystery',\n",
    "                 'Novel',\n",
    "                 'Sci-Fi'], rotation='horizontal', fontsize=12)\n",
    "ax.set_title(\"K-nearest neighbours model's confusion Matrix (%)\", fontsize=18, pad=20)\n",
    "ax.set_ylabel('True class', fontsize=14, labelpad=10)\n",
    "ax.set_xlabel('Predicted class', fontsize=14, labelpad=20)"
   ]
  },
  {
   "cell_type": "markdown",
   "metadata": {},
   "source": [
    "Here can be seen that the proportion of true positives are quite low which are not good except for Fantasy genre where it has 22.95% of true positives. The proportion of false positives and false negatives here are quite high. Also something interesting here is many predictions came into Fantasy genre, the model predicted more to Fantasy genre. Their numbers are quite high compared to the other genres which did not even reached 100 true positives. There are many misclassified class in this confusion matrix."
   ]
  },
  {
   "cell_type": "code",
   "execution_count": 48,
   "metadata": {},
   "outputs": [],
   "source": [
    "# for annotation\n",
    "group_counts = [\"{0:0.0f}\".format(value) for value in\n",
    "                cm3.flatten()]\n",
    "group_percentages = [\"{0:.2%}\".format(value) for value in\n",
    "                     cm3.flatten()/np.sum(cm3)]\n",
    "labels3 = [f\"{v2}\\n{v3}\" for v2, v3 in\n",
    "          zip(group_counts,group_percentages)]\n",
    "labels3 = np.asarray(labels3).reshape(5,5)"
   ]
  },
  {
   "cell_type": "code",
   "execution_count": 49,
   "metadata": {},
   "outputs": [
    {
     "data": {
      "text/plain": [
       "Text(0.5, 51.0, 'Predicted class')"
      ]
     },
     "execution_count": 49,
     "metadata": {},
     "output_type": "execute_result"
    },
    {
     "data": {
      "image/png": "[encoded data removed]",
      "text/plain": [
       "<Figure size 864x576 with 1 Axes>"
      ]
     },
     "metadata": {
      "needs_background": "light"
     },
     "output_type": "display_data"
    }
   ],
   "source": [
    "plt.figure(figsize=(12,8))\n",
    "ax = sns.heatmap(cm3, annot=labels3, fmt='', cmap='binary', annot_kws={'size':16}, cbar=False)\n",
    "ax.set_xticklabels([\"Children's literature\",\n",
    "                 'Fantasy',\n",
    "                 'Mystery',\n",
    "                 'Novel',\n",
    "                 'Sci-Fi'], fontsize=12)\n",
    "ax.set_yticklabels([\"Children's literature\",\n",
    "                 'Fantasy',\n",
    "                 'Mystery',\n",
    "                 'Novel',\n",
    "                 'Sci-Fi'], rotation='horizontal', fontsize=12)\n",
    "ax.set_title(\"Gaussian naive bayes model's confusion Matrix (%)\", fontsize=18, pad=20)\n",
    "ax.set_ylabel('True class', fontsize=14, labelpad=10)\n",
    "ax.set_xlabel('Predicted class', fontsize=14, labelpad=20)"
   ]
  },
  {
   "cell_type": "markdown",
   "metadata": {},
   "source": [
    "The proportion of false positives and false negatives here are quite low which are good. If we take Children's literature to evaluate, it has 6.03% of false positives and 10.22% of false negatives. The proportion of false positives and false negatives here is not as good as in logistic regression model. As for true positives, the proportions are quite good. "
   ]
  },
  {
   "cell_type": "code",
   "execution_count": 50,
   "metadata": {},
   "outputs": [],
   "source": [
    "# for annotation\n",
    "group_counts = [\"{0:0.0f}\".format(value) for value in\n",
    "                cm4.flatten()]\n",
    "group_percentages = [\"{0:.2%}\".format(value) for value in\n",
    "                     cm4.flatten()/np.sum(cm4)]\n",
    "labels4 = [f\"{v2}\\n{v3}\" for v2, v3 in\n",
    "          zip(group_counts,group_percentages)]\n",
    "labels4 = np.asarray(labels4).reshape(5,5)"
   ]
  },
  {
   "cell_type": "code",
   "execution_count": 52,
   "metadata": {},
   "outputs": [
    {
     "data": {
      "text/plain": [
       "Text(0.5, 51.0, 'Predicted class')"
      ]
     },
     "execution_count": 52,
     "metadata": {},
     "output_type": "execute_result"
    },
    {
     "data": {
      "image/png": "[encoded data removed]",
      "text/plain": [
       "<Figure size 864x576 with 1 Axes>"
      ]
     },
     "metadata": {
      "needs_background": "light"
     },
     "output_type": "display_data"
    }
   ],
   "source": [
    "plt.figure(figsize=(12,8))\n",
    "ax = sns.heatmap(cm4, annot=labels4, fmt='', cmap='binary', annot_kws={'size':16}, cbar=False)\n",
    "ax.set_xticklabels([\"Children's literature\",\n",
    "                 'Fantasy',\n",
    "                 'Mystery',\n",
    "                 'Novel',\n",
    "                 'Sci-Fi'], fontsize=12)\n",
    "ax.set_yticklabels([\"Children's literature\",\n",
    "                 'Fantasy',\n",
    "                 'Mystery',\n",
    "                 'Novel',\n",
    "                 'Sci-Fi'], rotation='horizontal', fontsize=12)\n",
    "ax.set_title(\"Random forest classifier model's confusion Matrix (%)\", fontsize=18, pad=20)\n",
    "ax.set_ylabel('True class', fontsize=14, labelpad=10)\n",
    "ax.set_xlabel('Predicted class', fontsize=14, labelpad=20)"
   ]
  },
  {
   "cell_type": "markdown",
   "metadata": {},
   "source": [
    "Here the proportion of false positives and false negatives can be considered low which is pretty good. The true positive for Children's literature are low which means the predictions are not identifying children's literature. Meanwhile for all other genres, their true positives proportion are quite high. It means that the model succeed in predicting the correct class. Misclassified class here are also very low."
   ]
  },
  {
   "cell_type": "markdown",
   "metadata": {},
   "source": [
    "### Evaluation metrics on test set in each models"
   ]
  },
  {
   "cell_type": "code",
   "execution_count": 55,
   "metadata": {},
   "outputs": [],
   "source": [
    "# Making target names matching the encoded label\n",
    "target_names=[\"Children's literature\",\n",
    "                 'Fantasy',\n",
    "                 'Mystery',\n",
    "                 'Novel',\n",
    "                 'Science Fiction']"
   ]
  },
  {
   "cell_type": "code",
   "execution_count": 55,
   "metadata": {},
   "outputs": [
    {
     "name": "stdout",
     "output_type": "stream",
     "text": [
      "Logistic regression model's scores:\n",
      "                       precision    recall  f1-score   support\n",
      "\n",
      "Children's literature       0.68      0.44      0.54       237\n",
      "              Fantasy       0.71      0.77      0.74       453\n",
      "              Mystery       0.73      0.64      0.68       271\n",
      "                Novel       0.60      0.77      0.67       430\n",
      "      Science Fiction       0.75      0.69      0.72       400\n",
      "\n",
      "            micro avg       0.69      0.69      0.69      1791\n",
      "            macro avg       0.69      0.66      0.67      1791\n",
      "         weighted avg       0.69      0.69      0.68      1791\n",
      "\n"
     ]
    }
   ],
   "source": [
    "print(\"Logistic regression model's scores:\")\n",
    "print(classification_report(y_test, y_predLR, target_names=target_names))"
   ]
  },
  {
   "cell_type": "markdown",
   "metadata": {},
   "source": [
    "Here the highest precision score is Science Fiction genre followed by Mystery, Fantasy, Children's literature and Novel. The precision scores here are pretty good. It means the model's predictions on the correct genres are pretty good. As for recall score, Children's literature score is not high but not low either (0.44). For the others its quite high which is good. It means that the model's sensitivity on predicting the correct genres are pretty good. F1 scores here also pretty good though, for Children's literature its 0.54 which are the lowest among the others. "
   ]
  },
  {
   "cell_type": "code",
   "execution_count": 69,
   "metadata": {},
   "outputs": [
    {
     "name": "stdout",
     "output_type": "stream",
     "text": [
      "K-nearest neighbours model's scores:\n",
      "                       precision    recall  f1-score   support\n",
      "\n",
      "Children's literature       0.53      0.13      0.21       237\n",
      "              Fantasy       0.29      0.91      0.44       453\n",
      "              Mystery       0.88      0.19      0.32       271\n",
      "                Novel       0.48      0.17      0.25       430\n",
      "      Science Fiction       0.76      0.23      0.35       400\n",
      "\n",
      "            micro avg       0.37      0.37      0.37      1791\n",
      "            macro avg       0.59      0.32      0.31      1791\n",
      "         weighted avg       0.56      0.37      0.32      1791\n",
      "\n"
     ]
    }
   ],
   "source": [
    "print(\"K-nearest neighbours model's scores:\")\n",
    "print(classification_report(y_test, y_predKN, target_names=target_names))"
   ]
  },
  {
   "cell_type": "markdown",
   "metadata": {},
   "source": [
    "Here the precision score are quite different from logistic regression model. Precision for Fantasy genre are low compared to other genres. The highest precision score here is for Mystery genre. As for recall score, all of the genres' score are quite low except for Fantasy (0.91). It means that the model's sensitivity on predicting correct genres is not really good. F1 scores here also are quite low."
   ]
  },
  {
   "cell_type": "code",
   "execution_count": 66,
   "metadata": {},
   "outputs": [
    {
     "name": "stdout",
     "output_type": "stream",
     "text": [
      "Gaussian naive bayes model's scores:\n",
      "                       precision    recall  f1-score   support\n",
      "\n",
      "Children's literature       0.41      0.54      0.47       237\n",
      "              Fantasy       0.71      0.59      0.65       453\n",
      "              Mystery       0.53      0.57      0.55       271\n",
      "                Novel       0.52      0.51      0.51       430\n",
      "      Science Fiction       0.63      0.61      0.62       400\n",
      "\n",
      "            micro avg       0.57      0.57      0.57      1791\n",
      "            macro avg       0.56      0.57      0.56      1791\n",
      "         weighted avg       0.58      0.57      0.57      1791\n",
      "\n"
     ]
    }
   ],
   "source": [
    "print(\"Gaussian naive bayes model's scores:\")\n",
    "print(classification_report(y_test, y_predNB, target_names=target_names))"
   ]
  },
  {
   "cell_type": "markdown",
   "metadata": {},
   "source": [
    "Here the precision score for all genres are quite good except for Children's literature which fall a bit below 0.5. The highest score here is for Fantasy genre. Recall score here are more balanced, it ranged around 0.5 to 0.6. The recall score is good enough for the prediction sensitivity. F1 score here is not as good as logistic regression model, but its already good enough for predictions."
   ]
  },
  {
   "cell_type": "code",
   "execution_count": 64,
   "metadata": {
    "scrolled": true
   },
   "outputs": [
    {
     "name": "stdout",
     "output_type": "stream",
     "text": [
      "Random forest classifier model's scores:\n",
      "                       precision    recall  f1-score   support\n",
      "\n",
      "Children's literature       0.66      0.20      0.31       237\n",
      "              Fantasy       0.64      0.75      0.69       453\n",
      "              Mystery       0.70      0.59      0.64       271\n",
      "                Novel       0.53      0.73      0.61       430\n",
      "      Science Fiction       0.71      0.65      0.68       400\n",
      "\n",
      "            micro avg       0.63      0.63      0.63      1791\n",
      "            macro avg       0.65      0.58      0.59      1791\n",
      "         weighted avg       0.64      0.63      0.61      1791\n",
      "\n"
     ]
    }
   ],
   "source": [
    "print(\"Random forest classifier model's scores:\")\n",
    "print(classification_report(y_test, y_predRF, target_names=target_names))"
   ]
  },
  {
   "cell_type": "markdown",
   "metadata": {},
   "source": [
    "Precision score here is similar to logistic regression model, though it is lower here than the logistic regression model. The one thing to notice here is the score for Children's literature genre. Recall (0.20) and f1 score (0.31) for Children's literature genre are pretty low here. As for other genres, the overall scores are pretty good. The scores are quite high and model are accurate in predicting those."
   ]
  },
  {
   "cell_type": "markdown",
   "metadata": {},
   "source": [
    "### Overall comparison"
   ]
  },
  {
   "cell_type": "markdown",
   "metadata": {},
   "source": [
    "By far, logistic regression gives a better accuracy than the two models followed by random forest classifer, gaussian naive bayes and the last is k-nearest neighbours. Looking at the accuracy and f1 score, logistic regression and gaussian naive bayes gives the best score which means it is good enough to predict genres. As for random forest classifier, recall and f1 score for Children's literature are quite low and not good enough. As for k-nearest neighbours, it is not balanced as the other two. Their recall score are also quite low except for fantasy which is why is not balanced."
   ]
  },
  {
   "cell_type": "markdown",
   "metadata": {},
   "source": [
    "## Conclusion"
   ]
  },
  {
   "cell_type": "markdown",
   "metadata": {},
   "source": [
    "Logistic regression and gaussian naive bayes are the best model to work with the datasets as it have the higher accuracy and not overfitting. As for random forest classifier, although their accuracy is the second best among the models, their model sensitivity to predict Children's literature genre are not good. The f1 score for it is also not good enough. Thus, random forest classifier is not recommended. K-nearest neighbours have a quite low accuracy on predicting genres. Moreover, logistic regression had the best accuracy here which means that logistic regression should be used as one of the model. Gaussian naive bayes also perform well and good for predicting genres but not as good as logistic regression. K-nearest neighbours here performs well on particular genres, but have a bad overall performance."
   ]
  }
 ],
 "metadata": {
  "kernelspec": {
   "display_name": "Python 3 (ipykernel)",
   "language": "python",
   "name": "python3"
  },
  "language_info": {
   "codemirror_mode": {
    "name": "ipython",
    "version": 3
   },
   "file_extension": ".py",
   "mimetype": "text/x-python",
   "name": "python",
   "nbconvert_exporter": "python",
   "pygments_lexer": "ipython3",
   "version": "3.8.12"
  }
 },
 "nbformat": 4,
 "nbformat_minor": 2
}
